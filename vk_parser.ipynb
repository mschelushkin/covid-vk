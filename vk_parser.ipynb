{
 "cells": [
  {
   "cell_type": "code",
   "execution_count": 1,
   "metadata": {},
   "outputs": [],
   "source": [
    "access_token = '0df761baebc99c1558c737e3f9d6d20df2a50cc5bc55df89b3549b413397c254de464354b09da7837a725'\n",
    "version = '5.130'"
   ]
  },
  {
   "cell_type": "code",
   "execution_count": 2,
   "metadata": {},
   "outputs": [],
   "source": [
    "import requests\n",
    "import json\n",
    "import time\n",
    "from tqdm.notebook import tqdm\n",
    "from datetime import datetime"
   ]
  },
  {
   "cell_type": "code",
   "execution_count": 3,
   "metadata": {},
   "outputs": [],
   "source": [
    "def dictToListOfStrings(dictionary):\n",
    "    listOfStrings=[]\n",
    "    for key in dictionary:\n",
    "        listOfStrings.append(str(key) + '=' + str(dictionary[key]))\n",
    "    return listOfStrings\n",
    "\n",
    "def vkMethod(method_name, parameters, access_token, version):\n",
    "    url = 'https://api.vk.com/method/{method_name}?{parameters}&access_token={access_token}&v={version}'\n",
    "    url = url.format(method_name=method_name,\n",
    "               parameters='&'.join(dictToListOfStrings(parameters)),\n",
    "               access_token=access_token,\n",
    "               version=version)\n",
    "    time.sleep(0.3)\n",
    "    response = requests.get(url).json()\n",
    "    return response\n",
    "\n",
    "def createBatches(someList, batchSize=25):\n",
    "    batches = []\n",
    "    for i in range(0, len(someList), batchSize):\n",
    "        batches.append(someList[i: i + batchSize])\n",
    "    return batches\n",
    "\n",
    "def createBatchedExecuteCode(method, params, batchSize, totalCount = None):\n",
    "    apiRequests = []\n",
    "    totalCount = getObjectCount(method, params) if totalCount is None else totalCount\n",
    "    for i in range(0, totalCount, 100):\n",
    "        params_i = params.copy()\n",
    "        params_i['offset'] = i\n",
    "        request = 'API.{method}({params})'.format(method = method, params = params_i)\n",
    "        apiRequests.append(request)\n",
    "    return createBatches(apiRequests, batchSize)\n",
    "\n",
    "def getObjectCount(method, params):\n",
    "    response = vkMethod(method, params, access_token, version)\n",
    "    return response['response']['count']\n",
    "\n",
    "fieldsToKeep = ['id', 'owner_id', 'date', 'text', 'marked_as_ads', 'comments', 'likes', 'reposts', 'views', 'thread', 'post_id']\n",
    "def deleteFromDict(dictionary, fieldsToKeep):\n",
    "    new = dictionary.copy()\n",
    "    for field in list(new.keys() - fieldsToKeep):\n",
    "        new.pop(field, None)\n",
    "    return new"
   ]
  },
  {
   "cell_type": "code",
   "execution_count": 4,
   "metadata": {},
   "outputs": [],
   "source": [
    "import json\n",
    "with open('config.json', 'r') as f:\n",
    "    properties = json.loads(f.read())\n",
    "\n",
    "communities_params = properties['communities_params']\n",
    "filters = properties['filters']"
   ]
  },
  {
   "cell_type": "code",
   "execution_count": 5,
   "metadata": {},
   "outputs": [],
   "source": [
    "date_time_obj = datetime.strptime('2019-11-01', '%Y-%m-%d')\n",
    "first_news = int(time.mktime(date_time_obj.timetuple()))\n",
    "\n",
    "\n",
    "def rawPosts(community_params):\n",
    "    allWalls = []\n",
    "    params = {'owner_id': community_params['community_id'], 'count':100}\n",
    "    codeInBatches = createBatchedExecuteCode('wall.get', params, batchSize = 12)\n",
    "    for code in tqdm(codeInBatches):\n",
    "        executeRequests = ', '.join(code)\n",
    "        executeCode = 'return[{requests}];'.format(requests = executeRequests)\n",
    "        response = vkMethod('execute', {'code': executeCode}, access_token, version)['response']\n",
    "        \n",
    "        for batch in response:\n",
    "            allWalls += batch['items']\n",
    "        \n",
    "        if allWalls[-1]['date'] < first_news:\n",
    "            break\n",
    "    with open('posts/rawPosts_{name}.json'.format(name=community_params['name']), 'w+') as f:\n",
    "        clean = list(map(lambda item: deleteFromDict(item, fieldsToKeep), allWalls))\n",
    "        if community_params['tag_filter']:\n",
    "            clean = list(\n",
    "                filter(\n",
    "                    lambda item: any(filter_ in item['text'].lower() for filter_ in filters),\n",
    "                    clean\n",
    "                )\n",
    "            )\n",
    "        json.dump(clean, f)\n",
    "    return len(codeInBatches)"
   ]
  },
  {
   "cell_type": "code",
   "execution_count": null,
   "metadata": {},
   "outputs": [],
   "source": [
    "rawPosts(communities_params[0])\n",
    "rawPosts(communities_params[1])\n",
    "rawPosts(communities_params[2])\n",
    "rawPosts(communities_params[3])\n",
    "rawPosts(communities_params[4])\n",
    "rawPosts(communities_params[5])\n",
    "rawPosts(communities_params[6])\n",
    "rawPosts(communities_params[7])\n",
    "rawPosts(communities_params[8])"
   ]
  },
  {
   "cell_type": "code",
   "execution_count": 10,
   "metadata": {},
   "outputs": [],
   "source": [
    "def getPostIdsAndCounts(community_params):\n",
    "    ids = []\n",
    "    with open('posts/rawPosts_{name}.json'.format(name=community_params['name'])) as json_file:\n",
    "        data = json.load(json_file)\n",
    "        for post in data:\n",
    "            ids.append((post['id'], post['comments']['count']))\n",
    "    return ids"
   ]
  },
  {
   "cell_type": "code",
   "execution_count": 11,
   "metadata": {},
   "outputs": [],
   "source": [
    "def rawComments(community_params):\n",
    "    allComments = []\n",
    "    post_ids = getPostIdsAndCounts(community_params)\n",
    "    for post_id, count in tqdm(post_ids):\n",
    "        params = {'owner_id': community_params['community_id'], 'post_id':post_id, 'count':100}\n",
    "        codeInBatches = createBatchedExecuteCode('wall.getComments', params, batchSize = 25, totalCount=count)\n",
    "        for code in codeInBatches:\n",
    "            executeRequests = ', '.join(code)\n",
    "            executeCode = 'return[{requests}];'.format(requests = executeRequests)\n",
    "            response = vkMethod('execute', {'code': executeCode}, access_token, version)\n",
    "            try:\n",
    "                response = response['response']\n",
    "            except:\n",
    "                print(response)\n",
    "            for batch in response:\n",
    "                comments = batch['items'].copy()\n",
    "                for comment in comments:\n",
    "                    comment['post_id'] = post_id\n",
    "                allComments += comments\n",
    "    with open('comments/rawComments_{name}.json'.format(name=community_params['name']), 'w+') as f:\n",
    "        json.dump(allComments, f)\n",
    "    return len(codeInBatches)"
   ]
  },
  {
   "cell_type": "code",
   "execution_count": null,
   "metadata": {
    "scrolled": true
   },
   "outputs": [],
   "source": [
    "for community_params in communities_params:\n",
    "    rawComments(community_params)"
   ]
  },
  {
   "cell_type": "code",
   "execution_count": 16,
   "metadata": {},
   "outputs": [],
   "source": [
    "def extractCommentIdsAndPostIdAndCount(community_params):\n",
    "    ids = []\n",
    "    with open('comments/rawComments_{name}.json'.format(name=community_params['name'])) as json_file:\n",
    "        data = json.load(json_file)\n",
    "        for comment in data:\n",
    "            ids.append((comment['id'], comment['post_id'], comment['thread']['count']))\n",
    "    return ids\n",
    "\n",
    "def getAnswerTexts(community_params):\n",
    "    allComments = []\n",
    "    for commentId, postId, count in tqdm(extractCommentIdsAndPostIdAndCount(community_params)):\n",
    "        if count > 0:\n",
    "            params = {'owner_id': community_params['community_id'], 'post_id':postId, 'comment_id':commentId, 'count':100}\n",
    "            codeInBatches = createBatchedExecuteCode('wall.getComments', params, batchSize = 25, totalCount = count)\n",
    "            for code in codeInBatches:\n",
    "                executeRequests = ', '.join(code)\n",
    "                executeCode = 'return[{requests}];'.format(requests = executeRequests)\n",
    "                response = vkMethod('execute', {'code': executeCode}, access_token, version)\n",
    "                try:\n",
    "                    response = response['response']\n",
    "                except:\n",
    "                    print(response)\n",
    "                for batch in response:\n",
    "                    allComments += batch['items']\n",
    "    with open('answers/rawAnswers_{name}.json'.format(name=community_params['name']), 'w+') as f:\n",
    "        clean = list(map(lambda item: deleteFromDict(item, fieldsToKeep), allComments))\n",
    "        json.dump(clean, f)"
   ]
  },
  {
   "cell_type": "code",
   "execution_count": null,
   "metadata": {},
   "outputs": [],
   "source": [
    "getAnswerTexts(communities_params[0])\n",
    "getAnswerTexts(communities_params[1])\n",
    "getAnswerTexts(communities_params[2])\n",
    "getAnswerTexts(communities_params[3])\n",
    "getAnswerTexts(communities_params[4])\n",
    "getAnswerTexts(communities_params[5])\n",
    "getAnswerTexts(communities_params[6])\n",
    "getAnswerTexts(communities_params[7])\n",
    "getAnswerTexts(communities_params[8])"
   ]
  }
 ],
 "metadata": {
  "colab": {
   "name": "vk_parser.ipynb",
   "provenance": []
  },
  "kernelspec": {
   "display_name": "Python 3",
   "language": "python",
   "name": "python3"
  },
  "language_info": {
   "codemirror_mode": {
    "name": "ipython",
    "version": 3
   },
   "file_extension": ".py",
   "mimetype": "text/x-python",
   "name": "python",
   "nbconvert_exporter": "python",
   "pygments_lexer": "ipython3",
   "version": "3.8.5"
  }
 },
 "nbformat": 4,
 "nbformat_minor": 1
}
