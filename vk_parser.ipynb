{
 "cells": [
  {
   "cell_type": "markdown",
   "metadata": {},
   "source": [
    "https://oauth.vk.com/authorize?client_id=7765951&scope=14&redirect_uri=https://oauth.vk.com/blank.html&display=page&v=5.16&response_type=token"
   ]
  },
  {
   "cell_type": "code",
   "execution_count": 8,
   "metadata": {},
   "outputs": [],
   "source": [
    "access_token = 'b369c70bf27c0cff009eaaadc1fe3eb3053cde0614297edc9231514988c697471429e3751089737939a86'\n",
    "version = '5.130'"
   ]
  },
  {
   "cell_type": "code",
   "execution_count": 5,
   "metadata": {},
   "outputs": [],
   "source": [
    "import requests\n",
    "import json\n",
    "import time\n",
    "from tqdm.notebook import tqdm\n",
    "from datetime import datetime"
   ]
  },
  {
   "cell_type": "code",
   "execution_count": 6,
   "metadata": {},
   "outputs": [],
   "source": [
    "def dictToListOfStrings(dictionary):\n",
    "    listOfStrings=[]\n",
    "    for key in dictionary:\n",
    "        listOfStrings.append(str(key) + '=' + str(dictionary[key]))\n",
    "    return listOfStrings\n",
    "\n",
    "def vkMethod(method_name, parameters, access_token, version):\n",
    "    url = 'https://api.vk.com/method/{method_name}?{parameters}&access_token={access_token}&v={version}'\n",
    "    url = url.format(method_name=method_name,\n",
    "               parameters='&'.join(dictToListOfStrings(parameters)),\n",
    "               access_token=access_token,\n",
    "               version=version)\n",
    "#     print(url)\n",
    "    time.sleep(0.3)\n",
    "    response = requests.get(url).json()\n",
    "    return response\n",
    "\n",
    "def createBatches(someList, batchSize=25):\n",
    "    batches = []\n",
    "    for i in range(0, len(someList), batchSize):\n",
    "        batches.append(someList[i: i + batchSize])\n",
    "    return batches\n",
    "\n",
    "def createBatchedExecuteCode(community_id, batchSize):\n",
    "    apiRequests = []\n",
    "    for i in range(0, getCommunityWallsCount(community_id), 100):\n",
    "        params = {'owner_id': community_id, 'count':100, 'offset':i}\n",
    "        request = 'API.wall.get(' + json.dumps(params) + ')'\n",
    "        apiRequests.append(request)\n",
    "    # ПРИ 15 уже падает\n",
    "    return createBatches(apiRequests, batchSize)\n",
    "\n",
    "def createBatchedExecuteCode(method, params, batchSize, totalCount = None):\n",
    "    apiRequests = []\n",
    "    totalCount = getObjectCount(method, params) if totalCount is None else totalCount\n",
    "    for i in range(0, totalCount, 100):\n",
    "        params_i = params.copy()\n",
    "        params_i['offset'] = i\n",
    "        request = 'API.{method}({params})'.format(method = method, params = params_i)\n",
    "        apiRequests.append(request)\n",
    "    return createBatches(apiRequests, batchSize)\n",
    "\n",
    "def getObjectCount(method, params):\n",
    "    response = vkMethod(method, params, access_token, version)\n",
    "    return response['response']['count']\n",
    "\n",
    "fieldsToKeep = ['id', 'owner_id', 'date', 'text', 'marked_as_ads', 'comments', 'likes', 'reposts', 'views', 'thread', 'post_id']\n",
    "def deleteFromDict(dictionary, fieldsToKeep):\n",
    "    new = dictionary.copy()\n",
    "    for field in list(new.keys() - fieldsToKeep):\n",
    "        new.pop(field, None)\n",
    "    return new\n",
    "\n",
    "# new_Walls = list(map(lambda item: deleteFromDict(item, fieldsToKeep), allWalls))\n",
    "# params = {'owner_id': -193013221, 'count':100, 'offset':i}"
   ]
  },
  {
   "cell_type": "code",
   "execution_count": 3,
   "metadata": {},
   "outputs": [],
   "source": [
    "import json\n",
    "with open('config.json', 'r') as f:\n",
    "    properties = json.loads(f.read())\n",
    "\n",
    "communities_params = properties['communities_params']\n",
    "filters = properties['filters']"
   ]
  },
  {
   "cell_type": "code",
   "execution_count": 7,
   "metadata": {},
   "outputs": [],
   "source": [
    "date_time_obj = datetime.strptime('2019-11-01', '%Y-%m-%d')\n",
    "first_news = int(time.mktime(date_time_obj.timetuple()))\n",
    "\n",
    "\n",
    "def rawPosts(community_params):\n",
    "    allWalls = []\n",
    "    params = {'owner_id': community_params['community_id'], 'count':100}\n",
    "    codeInBatches = createBatchedExecuteCode('wall.get', params, batchSize = 12)\n",
    "    for code in tqdm(codeInBatches):\n",
    "        executeRequests = ', '.join(code)\n",
    "        executeCode = 'return[{requests}];'.format(requests = executeRequests)\n",
    "        response = vkMethod('execute', {'code': executeCode}, access_token, version)['response']\n",
    "        \n",
    "        for batch in response:\n",
    "            allWalls += batch['items']\n",
    "        \n",
    "        if allWalls[-1]['date'] < first_news:\n",
    "            break\n",
    "    with open('posts/rawPosts_{name}.json'.format(name=community_params['name']), 'w+') as f:\n",
    "        clean = list(map(lambda item: deleteFromDict(item, fieldsToKeep), allWalls))\n",
    "        if community_params['tag_filter']:\n",
    "            clean = list(\n",
    "                filter(\n",
    "                    lambda item: any(filter_ in item['text'].lower() for filter_ in filters),\n",
    "                    clean\n",
    "                )\n",
    "            )\n",
    "        json.dump(clean, f)\n",
    "    return len(codeInBatches)"
   ]
  },
  {
   "cell_type": "code",
   "execution_count": 279,
   "metadata": {},
   "outputs": [
    {
     "data": {
      "application/vnd.jupyter.widget-view+json": {
       "model_id": "9e6b8335bbf445cca04b25ed0be98229",
       "version_major": 2,
       "version_minor": 0
      },
      "text/plain": [
       "HBox(children=(HTML(value=''), FloatProgress(value=0.0, max=4.0), HTML(value='')))"
      ]
     },
     "metadata": {},
     "output_type": "display_data"
    },
    {
     "name": "stdout",
     "output_type": "stream",
     "text": [
      "\n"
     ]
    },
    {
     "data": {
      "text/plain": [
       "4"
      ]
     },
     "execution_count": 279,
     "metadata": {},
     "output_type": "execute_result"
    }
   ],
   "source": [
    "rawPosts(communities_params[0])\n",
    "rawPosts(communities_params[1])\n",
    "rawPosts(communities_params[2])\n",
    "rawPosts(communities_params[3])\n",
    "rawPosts(communities_params[4])"
   ]
  },
  {
   "cell_type": "code",
   "execution_count": 9,
   "metadata": {},
   "outputs": [
    {
     "data": {
      "application/vnd.jupyter.widget-view+json": {
       "model_id": "77519d70bb1a47f2a2ec51c15ec15183",
       "version_major": 2,
       "version_minor": 0
      },
      "text/plain": [
       "HBox(children=(HTML(value=''), FloatProgress(value=0.0, max=50.0), HTML(value='')))"
      ]
     },
     "metadata": {},
     "output_type": "display_data"
    },
    {
     "name": "stdout",
     "output_type": "stream",
     "text": [
      "\n"
     ]
    },
    {
     "data": {
      "application/vnd.jupyter.widget-view+json": {
       "model_id": "78c854053eea4cc6a06808d076e68169",
       "version_major": 2,
       "version_minor": 0
      },
      "text/plain": [
       "HBox(children=(HTML(value=''), FloatProgress(value=0.0, max=44.0), HTML(value='')))"
      ]
     },
     "metadata": {},
     "output_type": "display_data"
    },
    {
     "name": "stdout",
     "output_type": "stream",
     "text": [
      "\n"
     ]
    },
    {
     "data": {
      "application/vnd.jupyter.widget-view+json": {
       "model_id": "9fdc899933404d44a1131376735dc65c",
       "version_major": 2,
       "version_minor": 0
      },
      "text/plain": [
       "HBox(children=(HTML(value=''), FloatProgress(value=0.0, max=70.0), HTML(value='')))"
      ]
     },
     "metadata": {},
     "output_type": "display_data"
    },
    {
     "name": "stdout",
     "output_type": "stream",
     "text": [
      "\n"
     ]
    },
    {
     "data": {
      "application/vnd.jupyter.widget-view+json": {
       "model_id": "d4b2c84cae614e09b82b2e1f116c9632",
       "version_major": 2,
       "version_minor": 0
      },
      "text/plain": [
       "HBox(children=(HTML(value=''), FloatProgress(value=0.0, max=113.0), HTML(value='')))"
      ]
     },
     "metadata": {},
     "output_type": "display_data"
    },
    {
     "name": "stdout",
     "output_type": "stream",
     "text": [
      "\n"
     ]
    },
    {
     "data": {
      "text/plain": [
       "113"
      ]
     },
     "execution_count": 9,
     "metadata": {},
     "output_type": "execute_result"
    }
   ],
   "source": [
    "rawPosts(communities_params[5])\n",
    "rawPosts(communities_params[6])\n",
    "rawPosts(communities_params[7])\n",
    "rawPosts(communities_params[8])"
   ]
  },
  {
   "cell_type": "code",
   "execution_count": 271,
   "metadata": {},
   "outputs": [
    {
     "name": "stdout",
     "output_type": "stream",
     "text": [
      "3700\n"
     ]
    }
   ],
   "source": [
    "name = communities_params[0]['name']\n",
    "with open('rawPosts_{name}.json'.format(name=name)) as json_file:\n",
    "    data = json.load(json_file)\n",
    "    print(len(data))\n",
    "#     break"
   ]
  },
  {
   "cell_type": "code",
   "execution_count": 272,
   "metadata": {},
   "outputs": [
    {
     "name": "stdout",
     "output_type": "stream",
     "text": [
      "9485\n"
     ]
    }
   ],
   "source": [
    "name = communities_params[1]['name']\n",
    "with open('rawPosts_{name}.json'.format(name=name)) as json_file:\n",
    "    data = json.load(json_file)\n",
    "    print(len(data))\n",
    "#     break"
   ]
  },
  {
   "cell_type": "code",
   "execution_count": 273,
   "metadata": {},
   "outputs": [
    {
     "name": "stdout",
     "output_type": "stream",
     "text": [
      "1077\n"
     ]
    }
   ],
   "source": [
    "name = communities_params[2]['name']\n",
    "with open('rawPosts_{name}.json'.format(name=name)) as json_file:\n",
    "    data = json.load(json_file)\n",
    "    print(len(data))\n",
    "#     break"
   ]
  },
  {
   "cell_type": "code",
   "execution_count": 287,
   "metadata": {},
   "outputs": [
    {
     "name": "stdout",
     "output_type": "stream",
     "text": [
      "3327\n"
     ]
    }
   ],
   "source": [
    "name = communities_params[3]['name']\n",
    "with open('posts/rawPosts_{name}.json'.format(name=name)) as json_file:\n",
    "    data = json.load(json_file)\n",
    "    print(len(data))\n",
    "#     break"
   ]
  },
  {
   "cell_type": "code",
   "execution_count": 288,
   "metadata": {},
   "outputs": [
    {
     "name": "stdout",
     "output_type": "stream",
     "text": [
      "1583\n"
     ]
    }
   ],
   "source": [
    "name = communities_params[4]['name']\n",
    "with open('posts/rawPosts_{name}.json'.format(name=name)) as json_file:\n",
    "    data = json.load(json_file)\n",
    "    print(len(data))\n",
    "#     break"
   ]
  },
  {
   "cell_type": "code",
   "execution_count": 274,
   "metadata": {},
   "outputs": [
    {
     "data": {
      "text/plain": [
       "199208"
      ]
     },
     "execution_count": 274,
     "metadata": {},
     "output_type": "execute_result"
    }
   ],
   "source": [
    "name = communities_params[0]['name']\n",
    "all_comments = 0\n",
    "with open('rawPosts_{name}.json'.format(name=name)) as json_file:\n",
    "    data = json.load(json_file)\n",
    "    for post in data:\n",
    "        all_comments += post['comments']['count']\n",
    "all_comments"
   ]
  },
  {
   "cell_type": "code",
   "execution_count": 275,
   "metadata": {},
   "outputs": [
    {
     "data": {
      "text/plain": [
       "222001"
      ]
     },
     "execution_count": 275,
     "metadata": {},
     "output_type": "execute_result"
    }
   ],
   "source": [
    "name = communities_params[1]['name']\n",
    "all_comments = 0\n",
    "with open('rawPosts_{name}.json'.format(name=name)) as json_file:\n",
    "    data = json.load(json_file)\n",
    "    for post in data:\n",
    "        all_comments += post['comments']['count']\n",
    "all_comments"
   ]
  },
  {
   "cell_type": "code",
   "execution_count": 276,
   "metadata": {},
   "outputs": [
    {
     "data": {
      "text/plain": [
       "33283"
      ]
     },
     "execution_count": 276,
     "metadata": {},
     "output_type": "execute_result"
    }
   ],
   "source": [
    "name = communities_params[2]['name']\n",
    "all_comments = 0\n",
    "with open('rawPosts_{name}.json'.format(name=name)) as json_file:\n",
    "    data = json.load(json_file)\n",
    "    for post in data:\n",
    "        all_comments += post['comments']['count']\n",
    "all_comments"
   ]
  },
  {
   "cell_type": "code",
   "execution_count": 289,
   "metadata": {},
   "outputs": [
    {
     "data": {
      "text/plain": [
       "205803"
      ]
     },
     "execution_count": 289,
     "metadata": {},
     "output_type": "execute_result"
    }
   ],
   "source": [
    "name = communities_params[3]['name']\n",
    "all_comments = 0\n",
    "with open('posts/rawPosts_{name}.json'.format(name=name)) as json_file:\n",
    "    data = json.load(json_file)\n",
    "    for post in data:\n",
    "        all_comments += post['comments']['count']\n",
    "all_comments"
   ]
  },
  {
   "cell_type": "code",
   "execution_count": 290,
   "metadata": {},
   "outputs": [
    {
     "data": {
      "text/plain": [
       "89388"
      ]
     },
     "execution_count": 290,
     "metadata": {},
     "output_type": "execute_result"
    }
   ],
   "source": [
    "name = communities_params[4]['name']\n",
    "all_comments = 0\n",
    "with open('posts/rawPosts_{name}.json'.format(name=name)) as json_file:\n",
    "    data = json.load(json_file)\n",
    "    for post in data:\n",
    "        all_comments += post['comments']['count']\n",
    "all_comments"
   ]
  },
  {
   "cell_type": "code",
   "execution_count": 10,
   "metadata": {},
   "outputs": [],
   "source": [
    "def getPostIdsAndCounts(community_params):\n",
    "    ids = []\n",
    "    with open('posts/rawPosts_{name}.json'.format(name=community_params['name'])) as json_file:\n",
    "        data = json.load(json_file)\n",
    "        for post in data:\n",
    "            ids.append((post['id'], post['comments']['count']))\n",
    "    return ids"
   ]
  },
  {
   "cell_type": "code",
   "execution_count": 11,
   "metadata": {},
   "outputs": [],
   "source": [
    "def rawComments(community_params):\n",
    "    allComments = []\n",
    "    post_ids = getPostIdsAndCounts(community_params)\n",
    "    for post_id, count in tqdm(post_ids):\n",
    "        params = {'owner_id': community_params['community_id'], 'post_id':post_id, 'count':100}\n",
    "        codeInBatches = createBatchedExecuteCode('wall.getComments', params, batchSize = 25, totalCount=count)\n",
    "        for code in codeInBatches:\n",
    "            executeRequests = ', '.join(code)\n",
    "            executeCode = 'return[{requests}];'.format(requests = executeRequests)\n",
    "            response = vkMethod('execute', {'code': executeCode}, access_token, version)\n",
    "            try:\n",
    "                response = response['response']\n",
    "            except:\n",
    "                print(response)\n",
    "            for batch in response:\n",
    "                comments = batch['items'].copy()\n",
    "                for comment in comments:\n",
    "                    comment['post_id'] = post_id\n",
    "#                 print(comment)\n",
    "#                 comment = list(map(lambda item: item.update({'post_id':post_id}), batch['items']))\n",
    "#                 comment['post_id'] = post_id\n",
    "                allComments += comments\n",
    "    with open('comments/rawComments_{name}.json'.format(name=community_params['name']), 'w+') as f:\n",
    "#         clean = list(map(lambda item: deleteFromDict(item, fieldsToKeep), allComments))\n",
    "#         json.dump(clean, f)\n",
    "        json.dump(allComments, f)\n",
    "    return len(codeInBatches)"
   ]
  },
  {
   "cell_type": "code",
   "execution_count": 391,
   "metadata": {
    "scrolled": true
   },
   "outputs": [
    {
     "data": {
      "application/vnd.jupyter.widget-view+json": {
       "model_id": "35685e6d09804588b1fbf6b76cc5fc25",
       "version_major": 2,
       "version_minor": 0
      },
      "text/plain": [
       "HBox(children=(HTML(value=''), FloatProgress(value=0.0, max=3693.0), HTML(value='')))"
      ]
     },
     "metadata": {},
     "output_type": "display_data"
    },
    {
     "name": "stdout",
     "output_type": "stream",
     "text": [
      "\n"
     ]
    },
    {
     "data": {
      "application/vnd.jupyter.widget-view+json": {
       "model_id": "37f0b650c3c84a4c8f1550d5c2c5d9ad",
       "version_major": 2,
       "version_minor": 0
      },
      "text/plain": [
       "HBox(children=(HTML(value=''), FloatProgress(value=0.0, max=9485.0), HTML(value='')))"
      ]
     },
     "metadata": {},
     "output_type": "display_data"
    },
    {
     "name": "stdout",
     "output_type": "stream",
     "text": [
      "\n"
     ]
    },
    {
     "data": {
      "application/vnd.jupyter.widget-view+json": {
       "model_id": "f601070ffacc4341842b6fc27166a156",
       "version_major": 2,
       "version_minor": 0
      },
      "text/plain": [
       "HBox(children=(HTML(value=''), FloatProgress(value=0.0, max=1077.0), HTML(value='')))"
      ]
     },
     "metadata": {},
     "output_type": "display_data"
    },
    {
     "name": "stdout",
     "output_type": "stream",
     "text": [
      "\n"
     ]
    },
    {
     "data": {
      "application/vnd.jupyter.widget-view+json": {
       "model_id": "1ada60f82fc94410aad3224df187b1be",
       "version_major": 2,
       "version_minor": 0
      },
      "text/plain": [
       "HBox(children=(HTML(value=''), FloatProgress(value=0.0, max=3327.0), HTML(value='')))"
      ]
     },
     "metadata": {},
     "output_type": "display_data"
    },
    {
     "name": "stdout",
     "output_type": "stream",
     "text": [
      "\n"
     ]
    },
    {
     "data": {
      "application/vnd.jupyter.widget-view+json": {
       "model_id": "140a6685d8c64dcb967184f1d5619b6f",
       "version_major": 2,
       "version_minor": 0
      },
      "text/plain": [
       "HBox(children=(HTML(value=''), FloatProgress(value=0.0, max=1583.0), HTML(value='')))"
      ]
     },
     "metadata": {},
     "output_type": "display_data"
    },
    {
     "name": "stdout",
     "output_type": "stream",
     "text": [
      "\n"
     ]
    }
   ],
   "source": [
    "for community_params in communities_params:\n",
    "    rawComments(community_params)"
   ]
  },
  {
   "cell_type": "code",
   "execution_count": 12,
   "metadata": {},
   "outputs": [
    {
     "data": {
      "application/vnd.jupyter.widget-view+json": {
       "model_id": "b7feb612cdfb48908ad367d2cd1c2c46",
       "version_major": 2,
       "version_minor": 0
      },
      "text/plain": [
       "HBox(children=(HTML(value=''), FloatProgress(value=0.0, max=1428.0), HTML(value='')))"
      ]
     },
     "metadata": {},
     "output_type": "display_data"
    },
    {
     "name": "stdout",
     "output_type": "stream",
     "text": [
      "\n"
     ]
    },
    {
     "data": {
      "application/vnd.jupyter.widget-view+json": {
       "model_id": "519cca3dfb6247b6aa45e92a7751703c",
       "version_major": 2,
       "version_minor": 0
      },
      "text/plain": [
       "HBox(children=(HTML(value=''), FloatProgress(value=0.0, max=2178.0), HTML(value='')))"
      ]
     },
     "metadata": {},
     "output_type": "display_data"
    },
    {
     "name": "stdout",
     "output_type": "stream",
     "text": [
      "\n"
     ]
    },
    {
     "ename": "ConnectionError",
     "evalue": "HTTPSConnectionPool(host='api.vk.com', port=443): Max retries exceeded with url: /method/execute?code=return%5BAPI.wall.getComments(%7B'owner_id':%20-29534144,%20'post_id':%2014305592,%20'count':%20100,%20'offset':%200%7D),%20API.wall.getComments(%7B'owner_id':%20-29534144,%20'post_id':%2014305592,%20'count':%20100,%20'offset':%20100%7D)%5D;&access_token=b369c70bf27c0cff009eaaadc1fe3eb3053cde0614297edc9231514988c697471429e3751089737939a86&v=5.130 (Caused by NewConnectionError('<urllib3.connection.HTTPSConnection object at 0x7ff58b1a55e0>: Failed to establish a new connection: [Errno -3] Temporary failure in name resolution'))",
     "output_type": "error",
     "traceback": [
      "\u001b[0;31m---------------------------------------------------------------------------\u001b[0m",
      "\u001b[0;31mgaierror\u001b[0m                                  Traceback (most recent call last)",
      "\u001b[0;32m~/anaconda3/lib/python3.8/site-packages/urllib3/connection.py\u001b[0m in \u001b[0;36m_new_conn\u001b[0;34m(self)\u001b[0m\n\u001b[1;32m    158\u001b[0m         \u001b[0;32mtry\u001b[0m\u001b[0;34m:\u001b[0m\u001b[0;34m\u001b[0m\u001b[0;34m\u001b[0m\u001b[0m\n\u001b[0;32m--> 159\u001b[0;31m             conn = connection.create_connection(\n\u001b[0m\u001b[1;32m    160\u001b[0m                 \u001b[0;34m(\u001b[0m\u001b[0mself\u001b[0m\u001b[0;34m.\u001b[0m\u001b[0m_dns_host\u001b[0m\u001b[0;34m,\u001b[0m \u001b[0mself\u001b[0m\u001b[0;34m.\u001b[0m\u001b[0mport\u001b[0m\u001b[0;34m)\u001b[0m\u001b[0;34m,\u001b[0m \u001b[0mself\u001b[0m\u001b[0;34m.\u001b[0m\u001b[0mtimeout\u001b[0m\u001b[0;34m,\u001b[0m \u001b[0;34m**\u001b[0m\u001b[0mextra_kw\u001b[0m\u001b[0;34m\u001b[0m\u001b[0;34m\u001b[0m\u001b[0m\n",
      "\u001b[0;32m~/anaconda3/lib/python3.8/site-packages/urllib3/util/connection.py\u001b[0m in \u001b[0;36mcreate_connection\u001b[0;34m(address, timeout, source_address, socket_options)\u001b[0m\n\u001b[1;32m     60\u001b[0m \u001b[0;34m\u001b[0m\u001b[0m\n\u001b[0;32m---> 61\u001b[0;31m     \u001b[0;32mfor\u001b[0m \u001b[0mres\u001b[0m \u001b[0;32min\u001b[0m \u001b[0msocket\u001b[0m\u001b[0;34m.\u001b[0m\u001b[0mgetaddrinfo\u001b[0m\u001b[0;34m(\u001b[0m\u001b[0mhost\u001b[0m\u001b[0;34m,\u001b[0m \u001b[0mport\u001b[0m\u001b[0;34m,\u001b[0m \u001b[0mfamily\u001b[0m\u001b[0;34m,\u001b[0m \u001b[0msocket\u001b[0m\u001b[0;34m.\u001b[0m\u001b[0mSOCK_STREAM\u001b[0m\u001b[0;34m)\u001b[0m\u001b[0;34m:\u001b[0m\u001b[0;34m\u001b[0m\u001b[0;34m\u001b[0m\u001b[0m\n\u001b[0m\u001b[1;32m     62\u001b[0m         \u001b[0maf\u001b[0m\u001b[0;34m,\u001b[0m \u001b[0msocktype\u001b[0m\u001b[0;34m,\u001b[0m \u001b[0mproto\u001b[0m\u001b[0;34m,\u001b[0m \u001b[0mcanonname\u001b[0m\u001b[0;34m,\u001b[0m \u001b[0msa\u001b[0m \u001b[0;34m=\u001b[0m \u001b[0mres\u001b[0m\u001b[0;34m\u001b[0m\u001b[0;34m\u001b[0m\u001b[0m\n",
      "\u001b[0;32m~/anaconda3/lib/python3.8/socket.py\u001b[0m in \u001b[0;36mgetaddrinfo\u001b[0;34m(host, port, family, type, proto, flags)\u001b[0m\n\u001b[1;32m    917\u001b[0m     \u001b[0maddrlist\u001b[0m \u001b[0;34m=\u001b[0m \u001b[0;34m[\u001b[0m\u001b[0;34m]\u001b[0m\u001b[0;34m\u001b[0m\u001b[0;34m\u001b[0m\u001b[0m\n\u001b[0;32m--> 918\u001b[0;31m     \u001b[0;32mfor\u001b[0m \u001b[0mres\u001b[0m \u001b[0;32min\u001b[0m \u001b[0m_socket\u001b[0m\u001b[0;34m.\u001b[0m\u001b[0mgetaddrinfo\u001b[0m\u001b[0;34m(\u001b[0m\u001b[0mhost\u001b[0m\u001b[0;34m,\u001b[0m \u001b[0mport\u001b[0m\u001b[0;34m,\u001b[0m \u001b[0mfamily\u001b[0m\u001b[0;34m,\u001b[0m \u001b[0mtype\u001b[0m\u001b[0;34m,\u001b[0m \u001b[0mproto\u001b[0m\u001b[0;34m,\u001b[0m \u001b[0mflags\u001b[0m\u001b[0;34m)\u001b[0m\u001b[0;34m:\u001b[0m\u001b[0;34m\u001b[0m\u001b[0;34m\u001b[0m\u001b[0m\n\u001b[0m\u001b[1;32m    919\u001b[0m         \u001b[0maf\u001b[0m\u001b[0;34m,\u001b[0m \u001b[0msocktype\u001b[0m\u001b[0;34m,\u001b[0m \u001b[0mproto\u001b[0m\u001b[0;34m,\u001b[0m \u001b[0mcanonname\u001b[0m\u001b[0;34m,\u001b[0m \u001b[0msa\u001b[0m \u001b[0;34m=\u001b[0m \u001b[0mres\u001b[0m\u001b[0;34m\u001b[0m\u001b[0;34m\u001b[0m\u001b[0m\n",
      "\u001b[0;31mgaierror\u001b[0m: [Errno -3] Temporary failure in name resolution",
      "\nDuring handling of the above exception, another exception occurred:\n",
      "\u001b[0;31mNewConnectionError\u001b[0m                        Traceback (most recent call last)",
      "\u001b[0;32m~/anaconda3/lib/python3.8/site-packages/urllib3/connectionpool.py\u001b[0m in \u001b[0;36murlopen\u001b[0;34m(self, method, url, body, headers, retries, redirect, assert_same_host, timeout, pool_timeout, release_conn, chunked, body_pos, **response_kw)\u001b[0m\n\u001b[1;32m    669\u001b[0m             \u001b[0;31m# Make the request on the httplib connection object.\u001b[0m\u001b[0;34m\u001b[0m\u001b[0;34m\u001b[0m\u001b[0;34m\u001b[0m\u001b[0m\n\u001b[0;32m--> 670\u001b[0;31m             httplib_response = self._make_request(\n\u001b[0m\u001b[1;32m    671\u001b[0m                 \u001b[0mconn\u001b[0m\u001b[0;34m,\u001b[0m\u001b[0;34m\u001b[0m\u001b[0;34m\u001b[0m\u001b[0m\n",
      "\u001b[0;32m~/anaconda3/lib/python3.8/site-packages/urllib3/connectionpool.py\u001b[0m in \u001b[0;36m_make_request\u001b[0;34m(self, conn, method, url, timeout, chunked, **httplib_request_kw)\u001b[0m\n\u001b[1;32m    380\u001b[0m         \u001b[0;32mtry\u001b[0m\u001b[0;34m:\u001b[0m\u001b[0;34m\u001b[0m\u001b[0;34m\u001b[0m\u001b[0m\n\u001b[0;32m--> 381\u001b[0;31m             \u001b[0mself\u001b[0m\u001b[0;34m.\u001b[0m\u001b[0m_validate_conn\u001b[0m\u001b[0;34m(\u001b[0m\u001b[0mconn\u001b[0m\u001b[0;34m)\u001b[0m\u001b[0;34m\u001b[0m\u001b[0;34m\u001b[0m\u001b[0m\n\u001b[0m\u001b[1;32m    382\u001b[0m         \u001b[0;32mexcept\u001b[0m \u001b[0;34m(\u001b[0m\u001b[0mSocketTimeout\u001b[0m\u001b[0;34m,\u001b[0m \u001b[0mBaseSSLError\u001b[0m\u001b[0;34m)\u001b[0m \u001b[0;32mas\u001b[0m \u001b[0me\u001b[0m\u001b[0;34m:\u001b[0m\u001b[0;34m\u001b[0m\u001b[0;34m\u001b[0m\u001b[0m\n",
      "\u001b[0;32m~/anaconda3/lib/python3.8/site-packages/urllib3/connectionpool.py\u001b[0m in \u001b[0;36m_validate_conn\u001b[0;34m(self, conn)\u001b[0m\n\u001b[1;32m    977\u001b[0m         \u001b[0;32mif\u001b[0m \u001b[0;32mnot\u001b[0m \u001b[0mgetattr\u001b[0m\u001b[0;34m(\u001b[0m\u001b[0mconn\u001b[0m\u001b[0;34m,\u001b[0m \u001b[0;34m\"sock\"\u001b[0m\u001b[0;34m,\u001b[0m \u001b[0;32mNone\u001b[0m\u001b[0;34m)\u001b[0m\u001b[0;34m:\u001b[0m  \u001b[0;31m# AppEngine might not have  `.sock`\u001b[0m\u001b[0;34m\u001b[0m\u001b[0;34m\u001b[0m\u001b[0m\n\u001b[0;32m--> 978\u001b[0;31m             \u001b[0mconn\u001b[0m\u001b[0;34m.\u001b[0m\u001b[0mconnect\u001b[0m\u001b[0;34m(\u001b[0m\u001b[0;34m)\u001b[0m\u001b[0;34m\u001b[0m\u001b[0;34m\u001b[0m\u001b[0m\n\u001b[0m\u001b[1;32m    979\u001b[0m \u001b[0;34m\u001b[0m\u001b[0m\n",
      "\u001b[0;32m~/anaconda3/lib/python3.8/site-packages/urllib3/connection.py\u001b[0m in \u001b[0;36mconnect\u001b[0;34m(self)\u001b[0m\n\u001b[1;32m    308\u001b[0m         \u001b[0;31m# Add certificate verification\u001b[0m\u001b[0;34m\u001b[0m\u001b[0;34m\u001b[0m\u001b[0;34m\u001b[0m\u001b[0m\n\u001b[0;32m--> 309\u001b[0;31m         \u001b[0mconn\u001b[0m \u001b[0;34m=\u001b[0m \u001b[0mself\u001b[0m\u001b[0;34m.\u001b[0m\u001b[0m_new_conn\u001b[0m\u001b[0;34m(\u001b[0m\u001b[0;34m)\u001b[0m\u001b[0;34m\u001b[0m\u001b[0;34m\u001b[0m\u001b[0m\n\u001b[0m\u001b[1;32m    310\u001b[0m         \u001b[0mhostname\u001b[0m \u001b[0;34m=\u001b[0m \u001b[0mself\u001b[0m\u001b[0;34m.\u001b[0m\u001b[0mhost\u001b[0m\u001b[0;34m\u001b[0m\u001b[0;34m\u001b[0m\u001b[0m\n",
      "\u001b[0;32m~/anaconda3/lib/python3.8/site-packages/urllib3/connection.py\u001b[0m in \u001b[0;36m_new_conn\u001b[0;34m(self)\u001b[0m\n\u001b[1;32m    170\u001b[0m         \u001b[0;32mexcept\u001b[0m \u001b[0mSocketError\u001b[0m \u001b[0;32mas\u001b[0m \u001b[0me\u001b[0m\u001b[0;34m:\u001b[0m\u001b[0;34m\u001b[0m\u001b[0;34m\u001b[0m\u001b[0m\n\u001b[0;32m--> 171\u001b[0;31m             raise NewConnectionError(\n\u001b[0m\u001b[1;32m    172\u001b[0m                 \u001b[0mself\u001b[0m\u001b[0;34m,\u001b[0m \u001b[0;34m\"Failed to establish a new connection: %s\"\u001b[0m \u001b[0;34m%\u001b[0m \u001b[0me\u001b[0m\u001b[0;34m\u001b[0m\u001b[0;34m\u001b[0m\u001b[0m\n",
      "\u001b[0;31mNewConnectionError\u001b[0m: <urllib3.connection.HTTPSConnection object at 0x7ff58b1a55e0>: Failed to establish a new connection: [Errno -3] Temporary failure in name resolution",
      "\nDuring handling of the above exception, another exception occurred:\n",
      "\u001b[0;31mMaxRetryError\u001b[0m                             Traceback (most recent call last)",
      "\u001b[0;32m~/anaconda3/lib/python3.8/site-packages/requests/adapters.py\u001b[0m in \u001b[0;36msend\u001b[0;34m(self, request, stream, timeout, verify, cert, proxies)\u001b[0m\n\u001b[1;32m    438\u001b[0m             \u001b[0;32mif\u001b[0m \u001b[0;32mnot\u001b[0m \u001b[0mchunked\u001b[0m\u001b[0;34m:\u001b[0m\u001b[0;34m\u001b[0m\u001b[0;34m\u001b[0m\u001b[0m\n\u001b[0;32m--> 439\u001b[0;31m                 resp = conn.urlopen(\n\u001b[0m\u001b[1;32m    440\u001b[0m                     \u001b[0mmethod\u001b[0m\u001b[0;34m=\u001b[0m\u001b[0mrequest\u001b[0m\u001b[0;34m.\u001b[0m\u001b[0mmethod\u001b[0m\u001b[0;34m,\u001b[0m\u001b[0;34m\u001b[0m\u001b[0;34m\u001b[0m\u001b[0m\n",
      "\u001b[0;32m~/anaconda3/lib/python3.8/site-packages/urllib3/connectionpool.py\u001b[0m in \u001b[0;36murlopen\u001b[0;34m(self, method, url, body, headers, retries, redirect, assert_same_host, timeout, pool_timeout, release_conn, chunked, body_pos, **response_kw)\u001b[0m\n\u001b[1;32m    725\u001b[0m \u001b[0;34m\u001b[0m\u001b[0m\n\u001b[0;32m--> 726\u001b[0;31m             retries = retries.increment(\n\u001b[0m\u001b[1;32m    727\u001b[0m                 \u001b[0mmethod\u001b[0m\u001b[0;34m,\u001b[0m \u001b[0murl\u001b[0m\u001b[0;34m,\u001b[0m \u001b[0merror\u001b[0m\u001b[0;34m=\u001b[0m\u001b[0me\u001b[0m\u001b[0;34m,\u001b[0m \u001b[0m_pool\u001b[0m\u001b[0;34m=\u001b[0m\u001b[0mself\u001b[0m\u001b[0;34m,\u001b[0m \u001b[0m_stacktrace\u001b[0m\u001b[0;34m=\u001b[0m\u001b[0msys\u001b[0m\u001b[0;34m.\u001b[0m\u001b[0mexc_info\u001b[0m\u001b[0;34m(\u001b[0m\u001b[0;34m)\u001b[0m\u001b[0;34m[\u001b[0m\u001b[0;36m2\u001b[0m\u001b[0;34m]\u001b[0m\u001b[0;34m\u001b[0m\u001b[0;34m\u001b[0m\u001b[0m\n",
      "\u001b[0;32m~/anaconda3/lib/python3.8/site-packages/urllib3/util/retry.py\u001b[0m in \u001b[0;36mincrement\u001b[0;34m(self, method, url, response, error, _pool, _stacktrace)\u001b[0m\n\u001b[1;32m    445\u001b[0m         \u001b[0;32mif\u001b[0m \u001b[0mnew_retry\u001b[0m\u001b[0;34m.\u001b[0m\u001b[0mis_exhausted\u001b[0m\u001b[0;34m(\u001b[0m\u001b[0;34m)\u001b[0m\u001b[0;34m:\u001b[0m\u001b[0;34m\u001b[0m\u001b[0;34m\u001b[0m\u001b[0m\n\u001b[0;32m--> 446\u001b[0;31m             \u001b[0;32mraise\u001b[0m \u001b[0mMaxRetryError\u001b[0m\u001b[0;34m(\u001b[0m\u001b[0m_pool\u001b[0m\u001b[0;34m,\u001b[0m \u001b[0murl\u001b[0m\u001b[0;34m,\u001b[0m \u001b[0merror\u001b[0m \u001b[0;32mor\u001b[0m \u001b[0mResponseError\u001b[0m\u001b[0;34m(\u001b[0m\u001b[0mcause\u001b[0m\u001b[0;34m)\u001b[0m\u001b[0;34m)\u001b[0m\u001b[0;34m\u001b[0m\u001b[0;34m\u001b[0m\u001b[0m\n\u001b[0m\u001b[1;32m    447\u001b[0m \u001b[0;34m\u001b[0m\u001b[0m\n",
      "\u001b[0;31mMaxRetryError\u001b[0m: HTTPSConnectionPool(host='api.vk.com', port=443): Max retries exceeded with url: /method/execute?code=return%5BAPI.wall.getComments(%7B'owner_id':%20-29534144,%20'post_id':%2014305592,%20'count':%20100,%20'offset':%200%7D),%20API.wall.getComments(%7B'owner_id':%20-29534144,%20'post_id':%2014305592,%20'count':%20100,%20'offset':%20100%7D)%5D;&access_token=b369c70bf27c0cff009eaaadc1fe3eb3053cde0614297edc9231514988c697471429e3751089737939a86&v=5.130 (Caused by NewConnectionError('<urllib3.connection.HTTPSConnection object at 0x7ff58b1a55e0>: Failed to establish a new connection: [Errno -3] Temporary failure in name resolution'))",
      "\nDuring handling of the above exception, another exception occurred:\n",
      "\u001b[0;31mConnectionError\u001b[0m                           Traceback (most recent call last)",
      "\u001b[0;32m<ipython-input-12-e8653ac0ba7a>\u001b[0m in \u001b[0;36m<module>\u001b[0;34m\u001b[0m\n\u001b[1;32m      1\u001b[0m \u001b[0mrawComments\u001b[0m\u001b[0;34m(\u001b[0m\u001b[0mcommunities_params\u001b[0m\u001b[0;34m[\u001b[0m\u001b[0;36m5\u001b[0m\u001b[0;34m]\u001b[0m\u001b[0;34m)\u001b[0m\u001b[0;34m\u001b[0m\u001b[0;34m\u001b[0m\u001b[0m\n\u001b[0;32m----> 2\u001b[0;31m \u001b[0mrawComments\u001b[0m\u001b[0;34m(\u001b[0m\u001b[0mcommunities_params\u001b[0m\u001b[0;34m[\u001b[0m\u001b[0;36m6\u001b[0m\u001b[0;34m]\u001b[0m\u001b[0;34m)\u001b[0m\u001b[0;34m\u001b[0m\u001b[0;34m\u001b[0m\u001b[0m\n\u001b[0m\u001b[1;32m      3\u001b[0m \u001b[0mrawComments\u001b[0m\u001b[0;34m(\u001b[0m\u001b[0mcommunities_params\u001b[0m\u001b[0;34m[\u001b[0m\u001b[0;36m7\u001b[0m\u001b[0;34m]\u001b[0m\u001b[0;34m)\u001b[0m\u001b[0;34m\u001b[0m\u001b[0;34m\u001b[0m\u001b[0m\n\u001b[1;32m      4\u001b[0m \u001b[0mrawComments\u001b[0m\u001b[0;34m(\u001b[0m\u001b[0mcommunities_params\u001b[0m\u001b[0;34m[\u001b[0m\u001b[0;36m8\u001b[0m\u001b[0;34m]\u001b[0m\u001b[0;34m)\u001b[0m\u001b[0;34m\u001b[0m\u001b[0;34m\u001b[0m\u001b[0m\n",
      "\u001b[0;32m<ipython-input-11-384686237536>\u001b[0m in \u001b[0;36mrawComments\u001b[0;34m(community_params)\u001b[0m\n\u001b[1;32m      8\u001b[0m             \u001b[0mexecuteRequests\u001b[0m \u001b[0;34m=\u001b[0m \u001b[0;34m', '\u001b[0m\u001b[0;34m.\u001b[0m\u001b[0mjoin\u001b[0m\u001b[0;34m(\u001b[0m\u001b[0mcode\u001b[0m\u001b[0;34m)\u001b[0m\u001b[0;34m\u001b[0m\u001b[0;34m\u001b[0m\u001b[0m\n\u001b[1;32m      9\u001b[0m             \u001b[0mexecuteCode\u001b[0m \u001b[0;34m=\u001b[0m \u001b[0;34m'return[{requests}];'\u001b[0m\u001b[0;34m.\u001b[0m\u001b[0mformat\u001b[0m\u001b[0;34m(\u001b[0m\u001b[0mrequests\u001b[0m \u001b[0;34m=\u001b[0m \u001b[0mexecuteRequests\u001b[0m\u001b[0;34m)\u001b[0m\u001b[0;34m\u001b[0m\u001b[0;34m\u001b[0m\u001b[0m\n\u001b[0;32m---> 10\u001b[0;31m             \u001b[0mresponse\u001b[0m \u001b[0;34m=\u001b[0m \u001b[0mvkMethod\u001b[0m\u001b[0;34m(\u001b[0m\u001b[0;34m'execute'\u001b[0m\u001b[0;34m,\u001b[0m \u001b[0;34m{\u001b[0m\u001b[0;34m'code'\u001b[0m\u001b[0;34m:\u001b[0m \u001b[0mexecuteCode\u001b[0m\u001b[0;34m}\u001b[0m\u001b[0;34m,\u001b[0m \u001b[0maccess_token\u001b[0m\u001b[0;34m,\u001b[0m \u001b[0mversion\u001b[0m\u001b[0;34m)\u001b[0m\u001b[0;34m\u001b[0m\u001b[0;34m\u001b[0m\u001b[0m\n\u001b[0m\u001b[1;32m     11\u001b[0m             \u001b[0;32mtry\u001b[0m\u001b[0;34m:\u001b[0m\u001b[0;34m\u001b[0m\u001b[0;34m\u001b[0m\u001b[0m\n\u001b[1;32m     12\u001b[0m                 \u001b[0mresponse\u001b[0m \u001b[0;34m=\u001b[0m \u001b[0mresponse\u001b[0m\u001b[0;34m[\u001b[0m\u001b[0;34m'response'\u001b[0m\u001b[0;34m]\u001b[0m\u001b[0;34m\u001b[0m\u001b[0;34m\u001b[0m\u001b[0m\n",
      "\u001b[0;32m<ipython-input-6-39851f437d10>\u001b[0m in \u001b[0;36mvkMethod\u001b[0;34m(method_name, parameters, access_token, version)\u001b[0m\n\u001b[1;32m     13\u001b[0m \u001b[0;31m#     print(url)\u001b[0m\u001b[0;34m\u001b[0m\u001b[0;34m\u001b[0m\u001b[0;34m\u001b[0m\u001b[0m\n\u001b[1;32m     14\u001b[0m     \u001b[0mtime\u001b[0m\u001b[0;34m.\u001b[0m\u001b[0msleep\u001b[0m\u001b[0;34m(\u001b[0m\u001b[0;36m0.3\u001b[0m\u001b[0;34m)\u001b[0m\u001b[0;34m\u001b[0m\u001b[0;34m\u001b[0m\u001b[0m\n\u001b[0;32m---> 15\u001b[0;31m     \u001b[0mresponse\u001b[0m \u001b[0;34m=\u001b[0m \u001b[0mrequests\u001b[0m\u001b[0;34m.\u001b[0m\u001b[0mget\u001b[0m\u001b[0;34m(\u001b[0m\u001b[0murl\u001b[0m\u001b[0;34m)\u001b[0m\u001b[0;34m.\u001b[0m\u001b[0mjson\u001b[0m\u001b[0;34m(\u001b[0m\u001b[0;34m)\u001b[0m\u001b[0;34m\u001b[0m\u001b[0;34m\u001b[0m\u001b[0m\n\u001b[0m\u001b[1;32m     16\u001b[0m     \u001b[0;32mreturn\u001b[0m \u001b[0mresponse\u001b[0m\u001b[0;34m\u001b[0m\u001b[0;34m\u001b[0m\u001b[0m\n\u001b[1;32m     17\u001b[0m \u001b[0;34m\u001b[0m\u001b[0m\n",
      "\u001b[0;32m~/anaconda3/lib/python3.8/site-packages/requests/api.py\u001b[0m in \u001b[0;36mget\u001b[0;34m(url, params, **kwargs)\u001b[0m\n\u001b[1;32m     74\u001b[0m \u001b[0;34m\u001b[0m\u001b[0m\n\u001b[1;32m     75\u001b[0m     \u001b[0mkwargs\u001b[0m\u001b[0;34m.\u001b[0m\u001b[0msetdefault\u001b[0m\u001b[0;34m(\u001b[0m\u001b[0;34m'allow_redirects'\u001b[0m\u001b[0;34m,\u001b[0m \u001b[0;32mTrue\u001b[0m\u001b[0;34m)\u001b[0m\u001b[0;34m\u001b[0m\u001b[0;34m\u001b[0m\u001b[0m\n\u001b[0;32m---> 76\u001b[0;31m     \u001b[0;32mreturn\u001b[0m \u001b[0mrequest\u001b[0m\u001b[0;34m(\u001b[0m\u001b[0;34m'get'\u001b[0m\u001b[0;34m,\u001b[0m \u001b[0murl\u001b[0m\u001b[0;34m,\u001b[0m \u001b[0mparams\u001b[0m\u001b[0;34m=\u001b[0m\u001b[0mparams\u001b[0m\u001b[0;34m,\u001b[0m \u001b[0;34m**\u001b[0m\u001b[0mkwargs\u001b[0m\u001b[0;34m)\u001b[0m\u001b[0;34m\u001b[0m\u001b[0;34m\u001b[0m\u001b[0m\n\u001b[0m\u001b[1;32m     77\u001b[0m \u001b[0;34m\u001b[0m\u001b[0m\n\u001b[1;32m     78\u001b[0m \u001b[0;34m\u001b[0m\u001b[0m\n",
      "\u001b[0;32m~/anaconda3/lib/python3.8/site-packages/requests/api.py\u001b[0m in \u001b[0;36mrequest\u001b[0;34m(method, url, **kwargs)\u001b[0m\n\u001b[1;32m     59\u001b[0m     \u001b[0;31m# cases, and look like a memory leak in others.\u001b[0m\u001b[0;34m\u001b[0m\u001b[0;34m\u001b[0m\u001b[0;34m\u001b[0m\u001b[0m\n\u001b[1;32m     60\u001b[0m     \u001b[0;32mwith\u001b[0m \u001b[0msessions\u001b[0m\u001b[0;34m.\u001b[0m\u001b[0mSession\u001b[0m\u001b[0;34m(\u001b[0m\u001b[0;34m)\u001b[0m \u001b[0;32mas\u001b[0m \u001b[0msession\u001b[0m\u001b[0;34m:\u001b[0m\u001b[0;34m\u001b[0m\u001b[0;34m\u001b[0m\u001b[0m\n\u001b[0;32m---> 61\u001b[0;31m         \u001b[0;32mreturn\u001b[0m \u001b[0msession\u001b[0m\u001b[0;34m.\u001b[0m\u001b[0mrequest\u001b[0m\u001b[0;34m(\u001b[0m\u001b[0mmethod\u001b[0m\u001b[0;34m=\u001b[0m\u001b[0mmethod\u001b[0m\u001b[0;34m,\u001b[0m \u001b[0murl\u001b[0m\u001b[0;34m=\u001b[0m\u001b[0murl\u001b[0m\u001b[0;34m,\u001b[0m \u001b[0;34m**\u001b[0m\u001b[0mkwargs\u001b[0m\u001b[0;34m)\u001b[0m\u001b[0;34m\u001b[0m\u001b[0;34m\u001b[0m\u001b[0m\n\u001b[0m\u001b[1;32m     62\u001b[0m \u001b[0;34m\u001b[0m\u001b[0m\n\u001b[1;32m     63\u001b[0m \u001b[0;34m\u001b[0m\u001b[0m\n",
      "\u001b[0;32m~/anaconda3/lib/python3.8/site-packages/requests/sessions.py\u001b[0m in \u001b[0;36mrequest\u001b[0;34m(self, method, url, params, data, headers, cookies, files, auth, timeout, allow_redirects, proxies, hooks, stream, verify, cert, json)\u001b[0m\n\u001b[1;32m    528\u001b[0m         }\n\u001b[1;32m    529\u001b[0m         \u001b[0msend_kwargs\u001b[0m\u001b[0;34m.\u001b[0m\u001b[0mupdate\u001b[0m\u001b[0;34m(\u001b[0m\u001b[0msettings\u001b[0m\u001b[0;34m)\u001b[0m\u001b[0;34m\u001b[0m\u001b[0;34m\u001b[0m\u001b[0m\n\u001b[0;32m--> 530\u001b[0;31m         \u001b[0mresp\u001b[0m \u001b[0;34m=\u001b[0m \u001b[0mself\u001b[0m\u001b[0;34m.\u001b[0m\u001b[0msend\u001b[0m\u001b[0;34m(\u001b[0m\u001b[0mprep\u001b[0m\u001b[0;34m,\u001b[0m \u001b[0;34m**\u001b[0m\u001b[0msend_kwargs\u001b[0m\u001b[0;34m)\u001b[0m\u001b[0;34m\u001b[0m\u001b[0;34m\u001b[0m\u001b[0m\n\u001b[0m\u001b[1;32m    531\u001b[0m \u001b[0;34m\u001b[0m\u001b[0m\n\u001b[1;32m    532\u001b[0m         \u001b[0;32mreturn\u001b[0m \u001b[0mresp\u001b[0m\u001b[0;34m\u001b[0m\u001b[0;34m\u001b[0m\u001b[0m\n",
      "\u001b[0;32m~/anaconda3/lib/python3.8/site-packages/requests/sessions.py\u001b[0m in \u001b[0;36msend\u001b[0;34m(self, request, **kwargs)\u001b[0m\n\u001b[1;32m    641\u001b[0m \u001b[0;34m\u001b[0m\u001b[0m\n\u001b[1;32m    642\u001b[0m         \u001b[0;31m# Send the request\u001b[0m\u001b[0;34m\u001b[0m\u001b[0;34m\u001b[0m\u001b[0;34m\u001b[0m\u001b[0m\n\u001b[0;32m--> 643\u001b[0;31m         \u001b[0mr\u001b[0m \u001b[0;34m=\u001b[0m \u001b[0madapter\u001b[0m\u001b[0;34m.\u001b[0m\u001b[0msend\u001b[0m\u001b[0;34m(\u001b[0m\u001b[0mrequest\u001b[0m\u001b[0;34m,\u001b[0m \u001b[0;34m**\u001b[0m\u001b[0mkwargs\u001b[0m\u001b[0;34m)\u001b[0m\u001b[0;34m\u001b[0m\u001b[0;34m\u001b[0m\u001b[0m\n\u001b[0m\u001b[1;32m    644\u001b[0m \u001b[0;34m\u001b[0m\u001b[0m\n\u001b[1;32m    645\u001b[0m         \u001b[0;31m# Total elapsed time of the request (approximately)\u001b[0m\u001b[0;34m\u001b[0m\u001b[0;34m\u001b[0m\u001b[0;34m\u001b[0m\u001b[0m\n",
      "\u001b[0;32m~/anaconda3/lib/python3.8/site-packages/requests/adapters.py\u001b[0m in \u001b[0;36msend\u001b[0;34m(self, request, stream, timeout, verify, cert, proxies)\u001b[0m\n\u001b[1;32m    514\u001b[0m                 \u001b[0;32mraise\u001b[0m \u001b[0mSSLError\u001b[0m\u001b[0;34m(\u001b[0m\u001b[0me\u001b[0m\u001b[0;34m,\u001b[0m \u001b[0mrequest\u001b[0m\u001b[0;34m=\u001b[0m\u001b[0mrequest\u001b[0m\u001b[0;34m)\u001b[0m\u001b[0;34m\u001b[0m\u001b[0;34m\u001b[0m\u001b[0m\n\u001b[1;32m    515\u001b[0m \u001b[0;34m\u001b[0m\u001b[0m\n\u001b[0;32m--> 516\u001b[0;31m             \u001b[0;32mraise\u001b[0m \u001b[0mConnectionError\u001b[0m\u001b[0;34m(\u001b[0m\u001b[0me\u001b[0m\u001b[0;34m,\u001b[0m \u001b[0mrequest\u001b[0m\u001b[0;34m=\u001b[0m\u001b[0mrequest\u001b[0m\u001b[0;34m)\u001b[0m\u001b[0;34m\u001b[0m\u001b[0;34m\u001b[0m\u001b[0m\n\u001b[0m\u001b[1;32m    517\u001b[0m \u001b[0;34m\u001b[0m\u001b[0m\n\u001b[1;32m    518\u001b[0m         \u001b[0;32mexcept\u001b[0m \u001b[0mClosedPoolError\u001b[0m \u001b[0;32mas\u001b[0m \u001b[0me\u001b[0m\u001b[0;34m:\u001b[0m\u001b[0;34m\u001b[0m\u001b[0;34m\u001b[0m\u001b[0m\n",
      "\u001b[0;31mConnectionError\u001b[0m: HTTPSConnectionPool(host='api.vk.com', port=443): Max retries exceeded with url: /method/execute?code=return%5BAPI.wall.getComments(%7B'owner_id':%20-29534144,%20'post_id':%2014305592,%20'count':%20100,%20'offset':%200%7D),%20API.wall.getComments(%7B'owner_id':%20-29534144,%20'post_id':%2014305592,%20'count':%20100,%20'offset':%20100%7D)%5D;&access_token=b369c70bf27c0cff009eaaadc1fe3eb3053cde0614297edc9231514988c697471429e3751089737939a86&v=5.130 (Caused by NewConnectionError('<urllib3.connection.HTTPSConnection object at 0x7ff58b1a55e0>: Failed to establish a new connection: [Errno -3] Temporary failure in name resolution'))"
     ]
    }
   ],
   "source": [
    "rawComments(communities_params[5])\n",
    "rawComments(communities_params[6])\n",
    "rawComments(communities_params[7])\n",
    "rawComments(communities_params[8])"
   ]
  },
  {
   "cell_type": "code",
   "execution_count": 13,
   "metadata": {},
   "outputs": [
    {
     "data": {
      "application/vnd.jupyter.widget-view+json": {
       "model_id": "47e75f146cc745958bdc29b5ce74dcf9",
       "version_major": 2,
       "version_minor": 0
      },
      "text/plain": [
       "HBox(children=(HTML(value=''), FloatProgress(value=0.0, max=2178.0), HTML(value='')))"
      ]
     },
     "metadata": {},
     "output_type": "display_data"
    },
    {
     "name": "stdout",
     "output_type": "stream",
     "text": [
      "\n"
     ]
    },
    {
     "data": {
      "text/plain": [
       "1"
      ]
     },
     "execution_count": 13,
     "metadata": {},
     "output_type": "execute_result"
    }
   ],
   "source": [
    "rawComments(communities_params[6])"
   ]
  },
  {
   "cell_type": "code",
   "execution_count": 14,
   "metadata": {},
   "outputs": [
    {
     "data": {
      "application/vnd.jupyter.widget-view+json": {
       "model_id": "3056625f718e49b4b4f6b93c8ccf6c3e",
       "version_major": 2,
       "version_minor": 0
      },
      "text/plain": [
       "HBox(children=(HTML(value=''), FloatProgress(value=0.0, max=1258.0), HTML(value='')))"
      ]
     },
     "metadata": {},
     "output_type": "display_data"
    },
    {
     "name": "stdout",
     "output_type": "stream",
     "text": [
      "\n"
     ]
    },
    {
     "data": {
      "application/vnd.jupyter.widget-view+json": {
       "model_id": "eac1956f66bc448b8f1ed2a7e7b3d313",
       "version_major": 2,
       "version_minor": 0
      },
      "text/plain": [
       "HBox(children=(HTML(value=''), FloatProgress(value=0.0, max=2799.0), HTML(value='')))"
      ]
     },
     "metadata": {},
     "output_type": "display_data"
    },
    {
     "name": "stdout",
     "output_type": "stream",
     "text": [
      "\n"
     ]
    },
    {
     "data": {
      "text/plain": [
       "1"
      ]
     },
     "execution_count": 14,
     "metadata": {},
     "output_type": "execute_result"
    }
   ],
   "source": [
    "rawComments(communities_params[7])\n",
    "rawComments(communities_params[8])"
   ]
  },
  {
   "cell_type": "code",
   "execution_count": 15,
   "metadata": {},
   "outputs": [
    {
     "name": "stdout",
     "output_type": "stream",
     "text": [
      "9493\n",
      "23655\n",
      "48975\n",
      "102134\n",
      "12723\n",
      "56558\n",
      "36922\n",
      "73957\n",
      "89100\n"
     ]
    },
    {
     "data": {
      "text/plain": [
       "453517"
      ]
     },
     "execution_count": 15,
     "metadata": {},
     "output_type": "execute_result"
    }
   ],
   "source": [
    "import os\n",
    "\n",
    "filelist = os.listdir('comments/')\n",
    "sum_ = 0\n",
    "for file in filelist:\n",
    "    with open('comments/' + file) as json_file:\n",
    "        data = json.load(json_file)\n",
    "        print(len(data))\n",
    "        sum_ += len(data)\n",
    "sum_"
   ]
  },
  {
   "cell_type": "code",
   "execution_count": 316,
   "metadata": {},
   "outputs": [
    {
     "name": "stdout",
     "output_type": "stream",
     "text": [
      "{'id': 63005, 'owner_id': -193849773, 'date': 1616439600, 'marked_as_ads': 0, 'text': 'Представитель Всемирной организации здравоохранения (ВОЗ) в России Мелита Вуйнович порекомендовала россиянам для поддержания здоровья весной есть побольше овощей и фруктов, заниматься физической активностью и не забывать про гигиену и ношение масок. \\n \\n«Во-первых, надо ответственно себя вести по отношению к собственному здоровью. Мы сами можем очень много сделать для своего здоровья без больших затрат: это здоровая еда — фрукты, овощи пять раз в день, меньше сахара, меньше соли, даже в переработанных продуктах, прогулки, — заявила Вуйнович в интервью ТАСС, отвечая на соответствующий вопрос. — При этом пользоваться маской, обращать внимание на гигиену». \\nОна указала, что дополнительно витамины можно принимать только по назначению врача. «Очень важно, чтобы [в организме] было достаточно витамина D, для этого нужно находиться на солнце», — добавила представитель организации. \\n«Самое главное, беречь себя от коронавируса, стараться быть физически активными — это даже не обязательно спорт. Если вы едете на метро на работу, выйдете на одну станцию раньше. Если вы ежедневно будете проходить по 10 тыс. шагов, это будет нормально», — отметила Вуйнович. \\n \\nОна указала на важность физической активности и для детей. «Конечно, дети должны играть, не только сидеть смотреть в какой-то экран, а чувствовать, что они активны, потому что мозг становится активным, когда дети играют. Надо, чтобы они бегали за мячом или занимались каким-то спортом, чтобы развиваться», — обратила внимание представитель ВОЗ. \\n \\n#ВОЗ #coronavirus #covid19', 'comments': {'count': 30, 'can_post': 1, 'groups_can_post': True}, 'likes': {'count': 82, 'user_likes': 0, 'can_like': 1, 'can_publish': 1}, 'reposts': {'count': 24, 'user_reposted': 0}, 'views': {'count': 159701}}\n"
     ]
    }
   ],
   "source": [
    "# filelist\n",
    "with open('posts/' + 'rawPosts_ВОЗ.json') as json_file:\n",
    "    data = json.load(json_file)\n",
    "    print(data[0])"
   ]
  },
  {
   "cell_type": "code",
   "execution_count": null,
   "metadata": {},
   "outputs": [],
   "source": [
    "params = {'owner_id': -193849773, 'post_id':63005, 'comment_id':63028, 'count':1}\n",
    "vkMethod('wall.getComments', params, access_token, version)"
   ]
  },
  {
   "cell_type": "code",
   "execution_count": 390,
   "metadata": {},
   "outputs": [],
   "source": [
    "# filelist\n",
    "tmp = []\n",
    "with open('comments/' + 'rawComments_ВОЗ.json') as json_file:\n",
    "    data = json.load(json_file)\n",
    "#     print(data[0])\n",
    "    for comment in data:\n",
    "        try:\n",
    "            tmp.append(comment['post_id'])\n",
    "        except:\n",
    "            print(comment)"
   ]
  },
  {
   "cell_type": "code",
   "execution_count": 318,
   "metadata": {
    "scrolled": true
   },
   "outputs": [
    {
     "data": {
      "text/plain": [
       "{'response': {'count': 34,\n",
       "  'items': [{'id': 63028,\n",
       "    'from_id': 49103030,\n",
       "    'post_id': 63005,\n",
       "    'owner_id': -193849773,\n",
       "    'parents_stack': [],\n",
       "    'date': 1616444956,\n",
       "    'text': 'Вы погоду видели? На улице гололёд и заморозки, какие нахрен 10 тысяч шагов? В такую погоду лучше по улице ходить как можно меньше, конечности целее будут.',\n",
       "    'attachments': [{'type': 'photo',\n",
       "      'photo': {'album_id': -8,\n",
       "       'date': 1616445206,\n",
       "       'id': 457251717,\n",
       "       'owner_id': -193849773,\n",
       "       'has_tags': False,\n",
       "       'access_key': '6bede4dfb3e5bee2ee',\n",
       "       'sizes': [{'height': 98,\n",
       "         'url': 'https://sun1-29.userapi.com/impf/W5rLuQpv_P-qQluO0xN4h4Za4OIHOSCtOKx9MQ/CPm2Rh6zQFc.jpg?size=130x98&quality=96&sign=2227e7aea6256e5dbdc731e4b23d055d&c_uniq_tag=NUtiJHX6_IT4YOlL-EKiqe92jKj9Xi9dOLI9dZvGy4M&type=album',\n",
       "         'type': 'm',\n",
       "         'width': 130},\n",
       "        {'height': 98,\n",
       "         'url': 'https://sun1-29.userapi.com/impf/W5rLuQpv_P-qQluO0xN4h4Za4OIHOSCtOKx9MQ/CPm2Rh6zQFc.jpg?size=130x98&quality=96&sign=2227e7aea6256e5dbdc731e4b23d055d&c_uniq_tag=NUtiJHX6_IT4YOlL-EKiqe92jKj9Xi9dOLI9dZvGy4M&type=album',\n",
       "         'type': 'o',\n",
       "         'width': 130},\n",
       "        {'height': 150,\n",
       "         'url': 'https://sun1-29.userapi.com/impf/W5rLuQpv_P-qQluO0xN4h4Za4OIHOSCtOKx9MQ/CPm2Rh6zQFc.jpg?size=200x150&quality=96&sign=4d751076c19c5978dcef58d872686c71&c_uniq_tag=unxqPddZuSmCRw6qwkuiiLSZSSf_pG0Hpn8yNZGaies&type=album',\n",
       "         'type': 'p',\n",
       "         'width': 200},\n",
       "        {'height': 240,\n",
       "         'url': 'https://sun1-29.userapi.com/impf/W5rLuQpv_P-qQluO0xN4h4Za4OIHOSCtOKx9MQ/CPm2Rh6zQFc.jpg?size=320x240&quality=96&sign=33965637915dd5d78d75ea41007719a7&c_uniq_tag=jDucyuk9w4JLIrHO7SDl45qlz7xiBrnkgtRw563syCw&type=album',\n",
       "         'type': 'q',\n",
       "         'width': 320},\n",
       "        {'height': 383,\n",
       "         'url': 'https://sun1-29.userapi.com/impf/W5rLuQpv_P-qQluO0xN4h4Za4OIHOSCtOKx9MQ/CPm2Rh6zQFc.jpg?size=510x383&quality=96&sign=a91b95d6a9ac6bba82a5b7131043f462&c_uniq_tag=xr4UjQ-9ioIHqIeUSlyw7HY8a1TSnj8QdxiYN33tH_4&type=album',\n",
       "         'type': 'r',\n",
       "         'width': 510},\n",
       "        {'height': 57,\n",
       "         'url': 'https://sun1-29.userapi.com/impf/W5rLuQpv_P-qQluO0xN4h4Za4OIHOSCtOKx9MQ/CPm2Rh6zQFc.jpg?size=75x56&quality=96&sign=c7628f9e7918bb16d7034f29a7105941&c_uniq_tag=59XgWmcpNbGcQY57s7ud-fYo-YVNXfEultkM_g06EPY&type=album',\n",
       "         'type': 's',\n",
       "         'width': 75},\n",
       "        {'height': 454,\n",
       "         'url': 'https://sun1-29.userapi.com/impf/W5rLuQpv_P-qQluO0xN4h4Za4OIHOSCtOKx9MQ/CPm2Rh6zQFc.jpg?size=604x453&quality=96&sign=c236526cfbf3fcbfbff3097811cd4b8f&c_uniq_tag=wvzi0gKDG24LTaMs4UGQ1fZWNTOJZWS6kKS-LzWHnWI&type=album',\n",
       "         'type': 'x',\n",
       "         'width': 604},\n",
       "        {'height': 606,\n",
       "         'url': 'https://sun1-29.userapi.com/impf/W5rLuQpv_P-qQluO0xN4h4Za4OIHOSCtOKx9MQ/CPm2Rh6zQFc.jpg?size=807x606&quality=96&sign=80fb455fc3fcbc5244e4434031dd291e&c_uniq_tag=ag4Cy6RaSXE2mACSD2nI5MbglB3cWgSSiFHvh9H69ng&type=album',\n",
       "         'type': 'y',\n",
       "         'width': 807},\n",
       "        {'height': 961,\n",
       "         'url': 'https://sun1-29.userapi.com/impf/W5rLuQpv_P-qQluO0xN4h4Za4OIHOSCtOKx9MQ/CPm2Rh6zQFc.jpg?size=1280x961&quality=96&sign=a2b5740bddb8226825c1dd840e92d15b&c_uniq_tag=8oQlNpcyNsg0rpYTJFj4WWMcNBKlXjxrw_YUuT3K0Jg&type=album',\n",
       "         'type': 'z',\n",
       "         'width': 1280}],\n",
       "       'text': '',\n",
       "       'user_id': 49103030}}],\n",
       "    'thread': {'count': 3,\n",
       "     'items': [],\n",
       "     'can_post': True,\n",
       "     'show_reply_button': True,\n",
       "     'groups_can_post': True}}],\n",
       "  'current_level_count': 19,\n",
       "  'can_post': True,\n",
       "  'show_reply_button': True,\n",
       "  'groups_can_post': True}}"
      ]
     },
     "execution_count": 318,
     "metadata": {},
     "output_type": "execute_result"
    }
   ],
   "source": [
    "params = {'owner_id': -193849773, 'post_id':63005, 'count':1}\n",
    "vkMethod('wall.getComments', params, access_token, version)"
   ]
  },
  {
   "cell_type": "code",
   "execution_count": 319,
   "metadata": {},
   "outputs": [
    {
     "data": {
      "text/plain": [
       "{'response': {'count': 3,\n",
       "  'items': [{'id': 63063,\n",
       "    'from_id': 2058732,\n",
       "    'post_id': 63005,\n",
       "    'owner_id': -193849773,\n",
       "    'parents_stack': [63028],\n",
       "    'date': 1616478332,\n",
       "    'text': 'Я гуляю в любую погоду. А тренировать реакцию и эквилибристику на таких дорогах самое то. Мышцы икр ног хорошо тренируются в такую погоду.'}],\n",
       "  'current_level_count': 3,\n",
       "  'can_post': True,\n",
       "  'show_reply_button': True,\n",
       "  'groups_can_post': True}}"
      ]
     },
     "execution_count": 319,
     "metadata": {},
     "output_type": "execute_result"
    }
   ],
   "source": [
    "params = {'owner_id': -193849773, 'post_id':63005, 'comment_id':63028, 'count':1}\n",
    "vkMethod('wall.getComments', params, access_token, version)"
   ]
  },
  {
   "cell_type": "code",
   "execution_count": 16,
   "metadata": {},
   "outputs": [],
   "source": [
    "def extractCommentIdsAndPostIdAndCount(community_params):\n",
    "    ids = []\n",
    "    with open('comments/rawComments_{name}.json'.format(name=community_params['name'])) as json_file:\n",
    "        data = json.load(json_file)\n",
    "        for comment in data:\n",
    "            ids.append((comment['id'], comment['post_id'], comment['thread']['count']))\n",
    "    return ids\n",
    "\n",
    "def getAnswerTexts(community_params):\n",
    "    allComments = []\n",
    "    for commentId, postId, count in tqdm(extractCommentIdsAndPostIdAndCount(community_params)):\n",
    "        if count > 0:\n",
    "            params = {'owner_id': community_params['community_id'], 'post_id':postId, 'comment_id':commentId, 'count':100}\n",
    "            codeInBatches = createBatchedExecuteCode('wall.getComments', params, batchSize = 25, totalCount = count)\n",
    "            for code in codeInBatches:\n",
    "                executeRequests = ', '.join(code)\n",
    "                executeCode = 'return[{requests}];'.format(requests = executeRequests)\n",
    "                response = vkMethod('execute', {'code': executeCode}, access_token, version)\n",
    "                try:\n",
    "                    response = response['response']\n",
    "                except:\n",
    "                    print(response)\n",
    "                for batch in response:\n",
    "                    allComments += batch['items']\n",
    "    with open('answers/rawAnswers_{name}.json'.format(name=community_params['name']), 'w+') as f:\n",
    "        clean = list(map(lambda item: deleteFromDict(item, fieldsToKeep), allComments))\n",
    "        json.dump(clean, f)"
   ]
  },
  {
   "cell_type": "code",
   "execution_count": null,
   "metadata": {},
   "outputs": [],
   "source": [
    "getAnswerTexts(communities_params[1])"
   ]
  },
  {
   "cell_type": "code",
   "execution_count": null,
   "metadata": {},
   "outputs": [],
   "source": [
    "getAnswerTexts(communities_params[0])"
   ]
  },
  {
   "cell_type": "code",
   "execution_count": null,
   "metadata": {},
   "outputs": [],
   "source": [
    "getAnswerTexts(communities_params[2])"
   ]
  },
  {
   "cell_type": "code",
   "execution_count": null,
   "metadata": {},
   "outputs": [],
   "source": [
    "getAnswerTexts(communities_params[3])"
   ]
  },
  {
   "cell_type": "code",
   "execution_count": null,
   "metadata": {},
   "outputs": [],
   "source": [
    "getAnswerTexts(communities_params[4])"
   ]
  },
  {
   "cell_type": "code",
   "execution_count": 17,
   "metadata": {},
   "outputs": [
    {
     "data": {
      "application/vnd.jupyter.widget-view+json": {
       "model_id": "bcd534e25ea743b4a303956c535e0222",
       "version_major": 2,
       "version_minor": 0
      },
      "text/plain": [
       "HBox(children=(HTML(value=''), FloatProgress(value=0.0, max=48975.0), HTML(value='')))"
      ]
     },
     "metadata": {},
     "output_type": "display_data"
    },
    {
     "name": "stdout",
     "output_type": "stream",
     "text": [
      "\n"
     ]
    }
   ],
   "source": [
    "getAnswerTexts(communities_params[5])"
   ]
  },
  {
   "cell_type": "code",
   "execution_count": null,
   "metadata": {},
   "outputs": [
    {
     "data": {
      "application/vnd.jupyter.widget-view+json": {
       "model_id": "049288b2b7b248779c90b2dbde1f0e0a",
       "version_major": 2,
       "version_minor": 0
      },
      "text/plain": [
       "HBox(children=(HTML(value=''), FloatProgress(value=0.0, max=102134.0), HTML(value='')))"
      ]
     },
     "metadata": {},
     "output_type": "display_data"
    }
   ],
   "source": [
    "getAnswerTexts(communities_params[6])"
   ]
  },
  {
   "cell_type": "code",
   "execution_count": null,
   "metadata": {},
   "outputs": [],
   "source": [
    "getAnswerTexts(communities_params[7])"
   ]
  },
  {
   "cell_type": "code",
   "execution_count": null,
   "metadata": {},
   "outputs": [],
   "source": [
    "getAnswerTexts(communities_params[8])"
   ]
  },
  {
   "cell_type": "code",
   "execution_count": null,
   "metadata": {},
   "outputs": [],
   "source": []
  },
  {
   "cell_type": "code",
   "execution_count": 311,
   "metadata": {},
   "outputs": [
    {
     "data": {
      "text/plain": [
       "'comments/rawComments_ВОЗ.json'"
      ]
     },
     "execution_count": 311,
     "metadata": {},
     "output_type": "execute_result"
    }
   ],
   "source": [
    "'comments/' +filelist[0]"
   ]
  },
  {
   "cell_type": "code",
   "execution_count": 306,
   "metadata": {},
   "outputs": [
    {
     "name": "stdout",
     "output_type": "stream",
     "text": [
      "73951\n"
     ]
    }
   ],
   "source": [
    "with open('comments/rawComments_{name}.json'.format(name=communities_params[0]['name'])) as json_file:\n",
    "    data = json.load(json_file)\n",
    "    print(len(data))"
   ]
  },
  {
   "cell_type": "code",
   "execution_count": 423,
   "metadata": {},
   "outputs": [
    {
     "name": "stdout",
     "output_type": "stream",
     "text": [
      "23799\n",
      "{'id': 63141, 'post_id': 63005, 'owner_id': -193849773, 'date': 1616529773, 'text': 'Есть способ проще'}\n"
     ]
    }
   ],
   "source": [
    "with open('answers/rawAnswers_{name}.json'.format(name=communities_params[2]['name'])) as json_file:\n",
    "    data = json.load(json_file)\n",
    "    print(len(data))\n",
    "    print(data[5])"
   ]
  },
  {
   "cell_type": "code",
   "execution_count": null,
   "metadata": {},
   "outputs": [],
   "source": [
    "def extractCommentIds(community_params):\n",
    "    ids = []\n",
    "    with open('comments/rawComments_{name}.json'.format(name=community_params['name'])) as json_file:\n",
    "        data = json.load(json_file)\n",
    "        for comment in data:\n",
    "            ids.append(comment['id'])\n",
    "    return ids\n",
    "\n",
    "def getAnswerTexts(community_params):\n",
    "    allComments = []\n",
    "    params = {'owner_id': community_params['community_id'], 'post_id':post_id, 'comment_id':383258, 'count':100}\n",
    "    codeInBatches = createBatchedExecuteCode('wall.getComments', params, batchSize = 25)\n",
    "    for code in tdqm(codeInBatches):\n",
    "        executeRequests = ', '.join(code)\n",
    "        executeCode = 'return[{requests}];'.format(requests = executeRequests)\n",
    "        response = vkMethod('execute', {'code': executeCode}, access_token, version)\n",
    "        try:\n",
    "            response = response['response']\n",
    "        except:\n",
    "            print(response)\n",
    "        for batch in response:\n",
    "            allComments += batch['items']\n",
    "    with open('comments/rawComments_{name}.json'.format(name=community_params['name']), 'w+') as f:\n",
    "        clean = list(map(lambda item: deleteFromDict(item, fieldsToKeep), allComments))\n",
    "        json.dump(clean, f)"
   ]
  },
  {
   "cell_type": "code",
   "execution_count": null,
   "metadata": {},
   "outputs": [],
   "source": [
    "rawComments(communities_params[1])"
   ]
  },
  {
   "cell_type": "code",
   "execution_count": 137,
   "metadata": {},
   "outputs": [
    {
     "data": {
      "text/plain": [
       "1"
      ]
     },
     "execution_count": 137,
     "metadata": {},
     "output_type": "execute_result"
    }
   ],
   "source": [
    "def rawComment(community_params, post_id):\n",
    "    allComments = []\n",
    "    params = {'owner_id': community_params['community_id'], 'post_id':post_id, 'comment_id':383258, 'count':100}\n",
    "    codeInBatches = createBatchedExecuteCode('wall.getComments', params, batchSize = 50)\n",
    "    for code in codeInBatches:\n",
    "        executeRequests = ', '.join(code)\n",
    "        executeCode = 'return[{requests}];'.format(requests = executeRequests)\n",
    "        response = vkMethod('execute', {'code': executeCode}, access_token, version)\n",
    "        try:\n",
    "            response = response['response']\n",
    "        except:\n",
    "            print(response)\n",
    "        for batch in response:\n",
    "            allComments += batch['items']\n",
    "    with open('tmp1.json', 'w+') as f:\n",
    "        clean = list(map(lambda item: deleteFromDict(item, fieldsToKeep), allComments))\n",
    "        json.dump(clean, f)\n",
    "    return len(codeInBatches)\n",
    "\n",
    "rawComment(communities_params[0], 383227)"
   ]
  },
  {
   "cell_type": "code",
   "execution_count": null,
   "metadata": {},
   "outputs": [],
   "source": []
  },
  {
   "cell_type": "code",
   "execution_count": null,
   "metadata": {},
   "outputs": [],
   "source": [
    "params = {'owner_id': community_params['community_id'], 'post_id':post_id, 'comment_id':63028, 'count':100}\n",
    "vkMethod('wall.getComments', params, access_token, version)"
   ]
  },
  {
   "cell_type": "code",
   "execution_count": 138,
   "metadata": {},
   "outputs": [
    {
     "name": "stdout",
     "output_type": "stream",
     "text": [
      "[{'id': 383276, 'owner_id': -193013221, 'date': 1616422537, 'text': '[id575649485|Ирина], то-то люди в очередях от недель до месяцев. А на Ростовскую область очередная партия всего 9100 доз.'}, {'id': 383287, 'owner_id': -193013221, 'date': 1616422936, 'text': '[id77827202|Дмитрий], вообще дисбаланс довольно большой по стране. У меня в городе вакцины хватает, людей желающих мало уже. А где-то привиться хотят, а не хватает вакцины.'}, {'id': 383289, 'owner_id': -193013221, 'date': 1616423040, 'text': '[id183537220|Алексей], я сам привился из самой первой партии, которая для врачей была. Но те отказались, из 20 тысяч половина ушла гражданам.)) Пусть будет вакцина, а желающие найдутся.'}, {'id': 383298, 'owner_id': -193013221, 'date': 1616423447, 'text': '[id77827202|Дмитрий], ну вот в Зеленограде немного по другому) человек из 30,например, на работе моей, только один привитый. Боятся чего-то, сами не знают чего. Но пример известных людей был бы очень кстати, может  последуют.'}, {'id': 383300, 'owner_id': -193013221, 'date': 1616423529, 'text': '[id77827202|Дмитрий], или негативный пример друзей или близких. Тоже сработает'}, {'id': 383347, 'owner_id': -193013221, 'date': 1616428980, 'text': '[id575649485|Ирина], это анти артиллерия'}]\n"
     ]
    }
   ],
   "source": [
    "with open('tmp1.json') as json_file:\n",
    "    data = json.load(json_file)\n",
    "    print(data)"
   ]
  },
  {
   "cell_type": "code",
   "execution_count": null,
   "metadata": {},
   "outputs": [],
   "source": [
    "def rawComment(community_params, post_id):\n",
    "    allComments = []\n",
    "    params = {'owner_id': community_params['community_id'], 'extended':1, 'post_id':post_id, 'count':100}\n",
    "    codeInBatches = createBatchedExecuteCode('wall.getComments', params, batchSize = 50)\n",
    "    for code in codeInBatches:\n",
    "        executeRequests = ', '.join(code)\n",
    "        executeCode = 'return[{requests}];'.format(requests = executeRequests)\n",
    "        response = vkMethod('execute', {'code': executeCode}, access_token, version)\n",
    "        try:\n",
    "            response = response['response']\n",
    "        except:\n",
    "            print(response)\n",
    "        for batch in response:\n",
    "            allComments += batch['items']\n",
    "    with open('tmp.json', 'w+') as f:\n",
    "        clean = list(map(lambda item: deleteFromDict(item, fieldsToKeep), allComments))\n",
    "        json.dump(clean, f)\n",
    "    return len(codeInBatches)\n",
    "\n",
    "rawComment(communities_params[0], 383227)"
   ]
  },
  {
   "cell_type": "code",
   "execution_count": 136,
   "metadata": {},
   "outputs": [
    {
     "name": "stdout",
     "output_type": "stream",
     "text": [
      "{'id': 383258, 'owner_id': -193013221, 'date': 1616421329, 'text': 'В ход пошла \" тяжелая артиллерия\" ,вакцинация слабо продвигается'}\n"
     ]
    }
   ],
   "source": [
    "with open('tmp.json') as json_file:\n",
    "    data = json.load(json_file)\n",
    "    print(data[6])"
   ]
  },
  {
   "cell_type": "code",
   "execution_count": 115,
   "metadata": {},
   "outputs": [
    {
     "name": "stdout",
     "output_type": "stream",
     "text": [
      "65303\n"
     ]
    }
   ],
   "source": [
    "### name = communities_params[0]['name']\n",
    "with open('rawComments_{name}.json'.format(name=name)) as json_file:\n",
    "    data = json.load(json_file)\n",
    "    print(len(data))"
   ]
  },
  {
   "cell_type": "code",
   "execution_count": 121,
   "metadata": {},
   "outputs": [
    {
     "name": "stdout",
     "output_type": "stream",
     "text": [
      "{'id': 383291, 'owner_id': -193013221, 'date': 1616423155, 'text': 'Молодец. Больше людей после этого пойдут прививаться. Не понимаю, чего он раньше не укололся.'}\n"
     ]
    }
   ],
   "source": [
    "### name = communities_params[0]['name']\n",
    "with open('rawComments_{name}.json'.format(name=name)) as json_file:\n",
    "    data = json.load(json_file)\n",
    "    print(data[10])"
   ]
  },
  {
   "cell_type": "code",
   "execution_count": 51,
   "metadata": {},
   "outputs": [],
   "source": [
    "response = vkMethod('wall.getComments', {'owner_id': -193013221, 'post_id':383227, 'count':1,}, access_token, version)"
   ]
  },
  {
   "cell_type": "code",
   "execution_count": 52,
   "metadata": {},
   "outputs": [
    {
     "data": {
      "text/plain": [
       "{'response': {'count': 32,\n",
       "  'items': [{'id': 383229,\n",
       "    'from_id': 77827202,\n",
       "    'post_id': 383227,\n",
       "    'owner_id': -193013221,\n",
       "    'parents_stack': [],\n",
       "    'date': 1616419685,\n",
       "    'text': 'Ну и норм. Как раз перед стартом массового производства. Видно, что заранее спланировали умные головы.)',\n",
       "    'thread': {'count': 0,\n",
       "     'items': [],\n",
       "     'can_post': False,\n",
       "     'show_reply_button': False}}],\n",
       "  'current_level_count': 19,\n",
       "  'can_post': False,\n",
       "  'show_reply_button': False}}"
      ]
     },
     "execution_count": 52,
     "metadata": {},
     "output_type": "execute_result"
    }
   ],
   "source": [
    "response"
   ]
  },
  {
   "cell_type": "code",
   "execution_count": 5,
   "metadata": {},
   "outputs": [],
   "source": [
    "# TODO: number of posts\n",
    "\n",
    "allWalls = []\n",
    "for tmp_ in createBatchedExecuteCode():\n",
    "    executeRequests = ', '.join(tmp_)\n",
    "    executeCode = 'return[{requests}];'.format(requests = executeRequests)\n",
    "    response = vkMethod('execute', {'code': executeCode}, access_token, version)['response']\n",
    "    for batch in response:\n",
    "        allWalls += batch['items']"
   ]
  },
  {
   "cell_type": "code",
   "execution_count": 65,
   "metadata": {},
   "outputs": [],
   "source": [
    "with open('rawPosts.json', 'w') as f:\n",
    "    json.dump(allWalls, f)"
   ]
  },
  {
   "cell_type": "code",
   "execution_count": 16,
   "metadata": {},
   "outputs": [
    {
     "data": {
      "text/plain": [
       "{'id': 368080,\n",
       " 'owner_id': -193013221,\n",
       " 'date': 1613724008,\n",
       " 'marked_as_ads': 0,\n",
       " 'text': '📌 Коммуникационный центр Правительства Российской Федерации выпустил ежедневный отчет о текущей ситуации по борьбе с коронавирусом.\\n\\nСколько заразившихся в мире и России? Как проводится тестирование на коронавирус? Что делает Правительство для противодействия распространению инфекции? На все эти вопросы есть ответы в отчете.\\n\\n🔗 https://dalee.cdnvideo.ru/stopcoronavirus.rf/files/2021-02-19_coronavirus_government_report.pdf\\n\\nБольше новостей и оперативной информации о распространении коронавируса в России — на сайте стопкоронавирус.рф.\\n\\n#стопкоронавирус #здоровьевприоритете #coronavirus',\n",
       " 'comments': {'count': 1, 'can_post': 1, 'groups_can_post': True},\n",
       " 'likes': {'count': 15, 'user_likes': 0, 'can_like': 1, 'can_publish': 1},\n",
       " 'reposts': {'count': 5, 'user_reposted': 0},\n",
       " 'views': {'count': 29408}}"
      ]
     },
     "execution_count": 16,
     "metadata": {},
     "output_type": "execute_result"
    }
   ],
   "source": [
    "fieldsToKeep = ['id', 'owner_id', 'date', 'text', 'marked_as_ads', 'comments', 'likes', 'reposts', 'views']\n",
    "def deleteFromDict(dictionary, fieldsToKeep):\n",
    "    new = dictionary.copy()\n",
    "    for field in list(new.keys() - fieldsToKeep):\n",
    "        new.pop(field, None)\n",
    "    return new\n",
    "\n",
    "new_Walls = list(map(lambda item: deleteFromDict(item, fieldsToKeep), allWalls))"
   ]
  },
  {
   "cell_type": "code",
   "execution_count": 67,
   "metadata": {},
   "outputs": [
    {
     "data": {
      "text/plain": [
       "list"
      ]
     },
     "execution_count": 67,
     "metadata": {},
     "output_type": "execute_result"
    }
   ],
   "source": [
    "type(new_Walls)"
   ]
  },
  {
   "cell_type": "code",
   "execution_count": 71,
   "metadata": {},
   "outputs": [
    {
     "data": {
      "text/plain": [
       "dict"
      ]
     },
     "execution_count": 71,
     "metadata": {},
     "output_type": "execute_result"
    }
   ],
   "source": [
    "type(new_Walls[0])"
   ]
  },
  {
   "cell_type": "code",
   "execution_count": 73,
   "metadata": {},
   "outputs": [
    {
     "data": {
      "text/html": [
       "<div>\n",
       "<style scoped>\n",
       "    .dataframe tbody tr th:only-of-type {\n",
       "        vertical-align: middle;\n",
       "    }\n",
       "\n",
       "    .dataframe tbody tr th {\n",
       "        vertical-align: top;\n",
       "    }\n",
       "\n",
       "    .dataframe thead th {\n",
       "        text-align: right;\n",
       "    }\n",
       "</style>\n",
       "<table border=\"1\" class=\"dataframe\">\n",
       "  <thead>\n",
       "    <tr style=\"text-align: right;\">\n",
       "      <th></th>\n",
       "      <th>id</th>\n",
       "      <th>owner_id</th>\n",
       "      <th>date</th>\n",
       "      <th>marked_as_ads</th>\n",
       "      <th>text</th>\n",
       "      <th>comments</th>\n",
       "      <th>likes</th>\n",
       "      <th>reposts</th>\n",
       "      <th>views</th>\n",
       "    </tr>\n",
       "  </thead>\n",
       "  <tbody>\n",
       "    <tr>\n",
       "      <th>0</th>\n",
       "      <td>368080</td>\n",
       "      <td>-193013221</td>\n",
       "      <td>1613724008</td>\n",
       "      <td>0</td>\n",
       "      <td>📌 Коммуникационный центр Правительства Российс...</td>\n",
       "      <td>{'count': 1, 'can_post': 1, 'groups_can_post':...</td>\n",
       "      <td>{'count': 15, 'user_likes': 0, 'can_like': 1, ...</td>\n",
       "      <td>{'count': 5, 'user_reposted': 0}</td>\n",
       "      <td>{'count': 29408}</td>\n",
       "    </tr>\n",
       "    <tr>\n",
       "      <th>1</th>\n",
       "      <td>368056</td>\n",
       "      <td>-193013221</td>\n",
       "      <td>1613722515</td>\n",
       "      <td>0</td>\n",
       "      <td>По данным Роспотребнадзора, в мире по состояни...</td>\n",
       "      <td>{'count': 0, 'can_post': 1, 'groups_can_post':...</td>\n",
       "      <td>{'count': 18, 'user_likes': 0, 'can_like': 1, ...</td>\n",
       "      <td>{'count': 4, 'user_reposted': 0}</td>\n",
       "      <td>{'count': 31141}</td>\n",
       "    </tr>\n",
       "    <tr>\n",
       "      <th>2</th>\n",
       "      <td>368044</td>\n",
       "      <td>-193013221</td>\n",
       "      <td>1613721700</td>\n",
       "      <td>0</td>\n",
       "      <td>За последние сутки в России выявлено 13 433 сл...</td>\n",
       "      <td>{'count': 26, 'can_post': 1, 'groups_can_post'...</td>\n",
       "      <td>{'count': 61, 'user_likes': 0, 'can_like': 1, ...</td>\n",
       "      <td>{'count': 50, 'user_reposted': 0}</td>\n",
       "      <td>{'count': 17339}</td>\n",
       "    </tr>\n",
       "    <tr>\n",
       "      <th>3</th>\n",
       "      <td>367907</td>\n",
       "      <td>-193013221</td>\n",
       "      <td>1613664049</td>\n",
       "      <td>0</td>\n",
       "      <td>🌿 Считается, что петрушка пришла к нам из Древ...</td>\n",
       "      <td>{'count': 5, 'can_post': 1, 'groups_can_post':...</td>\n",
       "      <td>{'count': 91, 'user_likes': 0, 'can_like': 1, ...</td>\n",
       "      <td>{'count': 51, 'user_reposted': 0}</td>\n",
       "      <td>{'count': 47681}</td>\n",
       "    </tr>\n",
       "    <tr>\n",
       "      <th>4</th>\n",
       "      <td>367876</td>\n",
       "      <td>-193013221</td>\n",
       "      <td>1613655029</td>\n",
       "      <td>0</td>\n",
       "      <td>На Дальнем Востоке постепенно ослабляют ограни...</td>\n",
       "      <td>{'count': 3, 'can_post': 1, 'groups_can_post':...</td>\n",
       "      <td>{'count': 46, 'user_likes': 0, 'can_like': 1, ...</td>\n",
       "      <td>{'count': 14, 'user_reposted': 0}</td>\n",
       "      <td>{'count': 103637}</td>\n",
       "    </tr>\n",
       "    <tr>\n",
       "      <th>...</th>\n",
       "      <td>...</td>\n",
       "      <td>...</td>\n",
       "      <td>...</td>\n",
       "      <td>...</td>\n",
       "      <td>...</td>\n",
       "      <td>...</td>\n",
       "      <td>...</td>\n",
       "      <td>...</td>\n",
       "      <td>...</td>\n",
       "    </tr>\n",
       "    <tr>\n",
       "      <th>3483</th>\n",
       "      <td>13</td>\n",
       "      <td>-193013221</td>\n",
       "      <td>1584451200</td>\n",
       "      <td>0</td>\n",
       "      <td>Президент России Владимир Путин посетил коммун...</td>\n",
       "      <td>{'count': 6, 'can_post': 1, 'groups_can_post':...</td>\n",
       "      <td>{'count': 16, 'user_likes': 0, 'can_like': 1, ...</td>\n",
       "      <td>{'count': 1, 'user_reposted': 0}</td>\n",
       "      <td>{'count': 8062}</td>\n",
       "    </tr>\n",
       "    <tr>\n",
       "      <th>3484</th>\n",
       "      <td>11</td>\n",
       "      <td>-193013221</td>\n",
       "      <td>1584447600</td>\n",
       "      <td>0</td>\n",
       "      <td>Не теряем полезную памятку❗\\n\\nМинздрав России...</td>\n",
       "      <td>{'count': 40, 'can_post': 1, 'groups_can_post'...</td>\n",
       "      <td>{'count': 350, 'user_likes': 0, 'can_like': 1,...</td>\n",
       "      <td>{'count': 86, 'user_reposted': 0}</td>\n",
       "      <td>{'count': 28121}</td>\n",
       "    </tr>\n",
       "    <tr>\n",
       "      <th>3485</th>\n",
       "      <td>9</td>\n",
       "      <td>-193013221</td>\n",
       "      <td>1584440700</td>\n",
       "      <td>0</td>\n",
       "      <td>Почему в России меньше заболеваний, чем в друг...</td>\n",
       "      <td>{'count': 10, 'can_post': 1, 'groups_can_post'...</td>\n",
       "      <td>{'count': 53, 'user_likes': 0, 'can_like': 1, ...</td>\n",
       "      <td>{'count': 8, 'user_reposted': 0}</td>\n",
       "      <td>{'count': 7219}</td>\n",
       "    </tr>\n",
       "    <tr>\n",
       "      <th>3486</th>\n",
       "      <td>5</td>\n",
       "      <td>-193013221</td>\n",
       "      <td>1584434734</td>\n",
       "      <td>0</td>\n",
       "      <td>Берегите себя и тщательно следите за своим здо...</td>\n",
       "      <td>{'count': 235, 'can_post': 1, 'groups_can_post...</td>\n",
       "      <td>{'count': 1723, 'user_likes': 0, 'can_like': 1...</td>\n",
       "      <td>{'count': 344, 'user_reposted': 0}</td>\n",
       "      <td>{'count': 407326}</td>\n",
       "    </tr>\n",
       "    <tr>\n",
       "      <th>3487</th>\n",
       "      <td>1</td>\n",
       "      <td>-193013221</td>\n",
       "      <td>1584365523</td>\n",
       "      <td>0</td>\n",
       "      <td>Коронавирус (COVID–19) — это группа вирусов, к...</td>\n",
       "      <td>{'count': 6, 'can_post': 1, 'groups_can_post':...</td>\n",
       "      <td>{'count': 36, 'user_likes': 0, 'can_like': 1, ...</td>\n",
       "      <td>{'count': 5, 'user_reposted': 0}</td>\n",
       "      <td>{'count': 5045}</td>\n",
       "    </tr>\n",
       "  </tbody>\n",
       "</table>\n",
       "<p>3488 rows × 9 columns</p>\n",
       "</div>"
      ],
      "text/plain": [
       "          id   owner_id        date  marked_as_ads  \\\n",
       "0     368080 -193013221  1613724008              0   \n",
       "1     368056 -193013221  1613722515              0   \n",
       "2     368044 -193013221  1613721700              0   \n",
       "3     367907 -193013221  1613664049              0   \n",
       "4     367876 -193013221  1613655029              0   \n",
       "...      ...        ...         ...            ...   \n",
       "3483      13 -193013221  1584451200              0   \n",
       "3484      11 -193013221  1584447600              0   \n",
       "3485       9 -193013221  1584440700              0   \n",
       "3486       5 -193013221  1584434734              0   \n",
       "3487       1 -193013221  1584365523              0   \n",
       "\n",
       "                                                   text  \\\n",
       "0     📌 Коммуникационный центр Правительства Российс...   \n",
       "1     По данным Роспотребнадзора, в мире по состояни...   \n",
       "2     За последние сутки в России выявлено 13 433 сл...   \n",
       "3     🌿 Считается, что петрушка пришла к нам из Древ...   \n",
       "4     На Дальнем Востоке постепенно ослабляют ограни...   \n",
       "...                                                 ...   \n",
       "3483  Президент России Владимир Путин посетил коммун...   \n",
       "3484  Не теряем полезную памятку❗\\n\\nМинздрав России...   \n",
       "3485  Почему в России меньше заболеваний, чем в друг...   \n",
       "3486  Берегите себя и тщательно следите за своим здо...   \n",
       "3487  Коронавирус (COVID–19) — это группа вирусов, к...   \n",
       "\n",
       "                                               comments  \\\n",
       "0     {'count': 1, 'can_post': 1, 'groups_can_post':...   \n",
       "1     {'count': 0, 'can_post': 1, 'groups_can_post':...   \n",
       "2     {'count': 26, 'can_post': 1, 'groups_can_post'...   \n",
       "3     {'count': 5, 'can_post': 1, 'groups_can_post':...   \n",
       "4     {'count': 3, 'can_post': 1, 'groups_can_post':...   \n",
       "...                                                 ...   \n",
       "3483  {'count': 6, 'can_post': 1, 'groups_can_post':...   \n",
       "3484  {'count': 40, 'can_post': 1, 'groups_can_post'...   \n",
       "3485  {'count': 10, 'can_post': 1, 'groups_can_post'...   \n",
       "3486  {'count': 235, 'can_post': 1, 'groups_can_post...   \n",
       "3487  {'count': 6, 'can_post': 1, 'groups_can_post':...   \n",
       "\n",
       "                                                  likes  \\\n",
       "0     {'count': 15, 'user_likes': 0, 'can_like': 1, ...   \n",
       "1     {'count': 18, 'user_likes': 0, 'can_like': 1, ...   \n",
       "2     {'count': 61, 'user_likes': 0, 'can_like': 1, ...   \n",
       "3     {'count': 91, 'user_likes': 0, 'can_like': 1, ...   \n",
       "4     {'count': 46, 'user_likes': 0, 'can_like': 1, ...   \n",
       "...                                                 ...   \n",
       "3483  {'count': 16, 'user_likes': 0, 'can_like': 1, ...   \n",
       "3484  {'count': 350, 'user_likes': 0, 'can_like': 1,...   \n",
       "3485  {'count': 53, 'user_likes': 0, 'can_like': 1, ...   \n",
       "3486  {'count': 1723, 'user_likes': 0, 'can_like': 1...   \n",
       "3487  {'count': 36, 'user_likes': 0, 'can_like': 1, ...   \n",
       "\n",
       "                                 reposts              views  \n",
       "0       {'count': 5, 'user_reposted': 0}   {'count': 29408}  \n",
       "1       {'count': 4, 'user_reposted': 0}   {'count': 31141}  \n",
       "2      {'count': 50, 'user_reposted': 0}   {'count': 17339}  \n",
       "3      {'count': 51, 'user_reposted': 0}   {'count': 47681}  \n",
       "4      {'count': 14, 'user_reposted': 0}  {'count': 103637}  \n",
       "...                                  ...                ...  \n",
       "3483    {'count': 1, 'user_reposted': 0}    {'count': 8062}  \n",
       "3484   {'count': 86, 'user_reposted': 0}   {'count': 28121}  \n",
       "3485    {'count': 8, 'user_reposted': 0}    {'count': 7219}  \n",
       "3486  {'count': 344, 'user_reposted': 0}  {'count': 407326}  \n",
       "3487    {'count': 5, 'user_reposted': 0}    {'count': 5045}  \n",
       "\n",
       "[3488 rows x 9 columns]"
      ]
     },
     "execution_count": 73,
     "metadata": {},
     "output_type": "execute_result"
    }
   ],
   "source": [
    "df = pd.DataFrame(new_Walls)\n",
    "df"
   ]
  },
  {
   "cell_type": "code",
   "execution_count": 70,
   "metadata": {},
   "outputs": [
    {
     "ename": "ValueError",
     "evalue": "Invalid file path or buffer object type: <class 'list'>",
     "output_type": "error",
     "traceback": [
      "\u001b[0;31m---------------------------------------------------------------------------\u001b[0m",
      "\u001b[0;31mValueError\u001b[0m                                Traceback (most recent call last)",
      "\u001b[0;32m<ipython-input-70-e1cc9823e3bb>\u001b[0m in \u001b[0;36m<module>\u001b[0;34m\u001b[0m\n\u001b[1;32m      1\u001b[0m \u001b[0;32mimport\u001b[0m \u001b[0mpandas\u001b[0m \u001b[0;32mas\u001b[0m \u001b[0mpd\u001b[0m\u001b[0;34m\u001b[0m\u001b[0;34m\u001b[0m\u001b[0m\n\u001b[0;32m----> 2\u001b[0;31m \u001b[0mpd\u001b[0m\u001b[0;34m.\u001b[0m\u001b[0mread_json\u001b[0m\u001b[0;34m(\u001b[0m\u001b[0mnew_Walls\u001b[0m\u001b[0;34m)\u001b[0m\u001b[0;34m\u001b[0m\u001b[0;34m\u001b[0m\u001b[0m\n\u001b[0m",
      "\u001b[0;32m~/anaconda3/lib/python3.8/site-packages/pandas/util/_decorators.py\u001b[0m in \u001b[0;36mwrapper\u001b[0;34m(*args, **kwargs)\u001b[0m\n\u001b[1;32m    197\u001b[0m                 \u001b[0;32melse\u001b[0m\u001b[0;34m:\u001b[0m\u001b[0;34m\u001b[0m\u001b[0;34m\u001b[0m\u001b[0m\n\u001b[1;32m    198\u001b[0m                     \u001b[0mkwargs\u001b[0m\u001b[0;34m[\u001b[0m\u001b[0mnew_arg_name\u001b[0m\u001b[0;34m]\u001b[0m \u001b[0;34m=\u001b[0m \u001b[0mnew_arg_value\u001b[0m\u001b[0;34m\u001b[0m\u001b[0;34m\u001b[0m\u001b[0m\n\u001b[0;32m--> 199\u001b[0;31m             \u001b[0;32mreturn\u001b[0m \u001b[0mfunc\u001b[0m\u001b[0;34m(\u001b[0m\u001b[0;34m*\u001b[0m\u001b[0margs\u001b[0m\u001b[0;34m,\u001b[0m \u001b[0;34m**\u001b[0m\u001b[0mkwargs\u001b[0m\u001b[0;34m)\u001b[0m\u001b[0;34m\u001b[0m\u001b[0;34m\u001b[0m\u001b[0m\n\u001b[0m\u001b[1;32m    200\u001b[0m \u001b[0;34m\u001b[0m\u001b[0m\n\u001b[1;32m    201\u001b[0m         \u001b[0;32mreturn\u001b[0m \u001b[0mcast\u001b[0m\u001b[0;34m(\u001b[0m\u001b[0mF\u001b[0m\u001b[0;34m,\u001b[0m \u001b[0mwrapper\u001b[0m\u001b[0;34m)\u001b[0m\u001b[0;34m\u001b[0m\u001b[0;34m\u001b[0m\u001b[0m\n",
      "\u001b[0;32m~/anaconda3/lib/python3.8/site-packages/pandas/util/_decorators.py\u001b[0m in \u001b[0;36mwrapper\u001b[0;34m(*args, **kwargs)\u001b[0m\n\u001b[1;32m    294\u001b[0m                 )\n\u001b[1;32m    295\u001b[0m                 \u001b[0mwarnings\u001b[0m\u001b[0;34m.\u001b[0m\u001b[0mwarn\u001b[0m\u001b[0;34m(\u001b[0m\u001b[0mmsg\u001b[0m\u001b[0;34m,\u001b[0m \u001b[0mFutureWarning\u001b[0m\u001b[0;34m,\u001b[0m \u001b[0mstacklevel\u001b[0m\u001b[0;34m=\u001b[0m\u001b[0mstacklevel\u001b[0m\u001b[0;34m)\u001b[0m\u001b[0;34m\u001b[0m\u001b[0;34m\u001b[0m\u001b[0m\n\u001b[0;32m--> 296\u001b[0;31m             \u001b[0;32mreturn\u001b[0m \u001b[0mfunc\u001b[0m\u001b[0;34m(\u001b[0m\u001b[0;34m*\u001b[0m\u001b[0margs\u001b[0m\u001b[0;34m,\u001b[0m \u001b[0;34m**\u001b[0m\u001b[0mkwargs\u001b[0m\u001b[0;34m)\u001b[0m\u001b[0;34m\u001b[0m\u001b[0;34m\u001b[0m\u001b[0m\n\u001b[0m\u001b[1;32m    297\u001b[0m \u001b[0;34m\u001b[0m\u001b[0m\n\u001b[1;32m    298\u001b[0m         \u001b[0;32mreturn\u001b[0m \u001b[0mwrapper\u001b[0m\u001b[0;34m\u001b[0m\u001b[0;34m\u001b[0m\u001b[0m\n",
      "\u001b[0;32m~/anaconda3/lib/python3.8/site-packages/pandas/io/json/_json.py\u001b[0m in \u001b[0;36mread_json\u001b[0;34m(path_or_buf, orient, typ, dtype, convert_axes, convert_dates, keep_default_dates, numpy, precise_float, date_unit, encoding, lines, chunksize, compression, nrows)\u001b[0m\n\u001b[1;32m    591\u001b[0m \u001b[0;34m\u001b[0m\u001b[0m\n\u001b[1;32m    592\u001b[0m     \u001b[0mcompression\u001b[0m \u001b[0;34m=\u001b[0m \u001b[0minfer_compression\u001b[0m\u001b[0;34m(\u001b[0m\u001b[0mpath_or_buf\u001b[0m\u001b[0;34m,\u001b[0m \u001b[0mcompression\u001b[0m\u001b[0;34m)\u001b[0m\u001b[0;34m\u001b[0m\u001b[0;34m\u001b[0m\u001b[0m\n\u001b[0;32m--> 593\u001b[0;31m     filepath_or_buffer, _, compression, should_close = get_filepath_or_buffer(\n\u001b[0m\u001b[1;32m    594\u001b[0m         \u001b[0mpath_or_buf\u001b[0m\u001b[0;34m,\u001b[0m \u001b[0mencoding\u001b[0m\u001b[0;34m=\u001b[0m\u001b[0mencoding\u001b[0m\u001b[0;34m,\u001b[0m \u001b[0mcompression\u001b[0m\u001b[0;34m=\u001b[0m\u001b[0mcompression\u001b[0m\u001b[0;34m\u001b[0m\u001b[0;34m\u001b[0m\u001b[0m\n\u001b[1;32m    595\u001b[0m     )\n",
      "\u001b[0;32m~/anaconda3/lib/python3.8/site-packages/pandas/io/common.py\u001b[0m in \u001b[0;36mget_filepath_or_buffer\u001b[0;34m(filepath_or_buffer, encoding, compression, mode, storage_options)\u001b[0m\n\u001b[1;32m    241\u001b[0m     \u001b[0;32mif\u001b[0m \u001b[0;32mnot\u001b[0m \u001b[0mis_file_like\u001b[0m\u001b[0;34m(\u001b[0m\u001b[0mfilepath_or_buffer\u001b[0m\u001b[0;34m)\u001b[0m\u001b[0;34m:\u001b[0m\u001b[0;34m\u001b[0m\u001b[0;34m\u001b[0m\u001b[0m\n\u001b[1;32m    242\u001b[0m         \u001b[0mmsg\u001b[0m \u001b[0;34m=\u001b[0m \u001b[0;34mf\"Invalid file path or buffer object type: {type(filepath_or_buffer)}\"\u001b[0m\u001b[0;34m\u001b[0m\u001b[0;34m\u001b[0m\u001b[0m\n\u001b[0;32m--> 243\u001b[0;31m         \u001b[0;32mraise\u001b[0m \u001b[0mValueError\u001b[0m\u001b[0;34m(\u001b[0m\u001b[0mmsg\u001b[0m\u001b[0;34m)\u001b[0m\u001b[0;34m\u001b[0m\u001b[0;34m\u001b[0m\u001b[0m\n\u001b[0m\u001b[1;32m    244\u001b[0m \u001b[0;34m\u001b[0m\u001b[0m\n\u001b[1;32m    245\u001b[0m     \u001b[0;32mreturn\u001b[0m \u001b[0mfilepath_or_buffer\u001b[0m\u001b[0;34m,\u001b[0m \u001b[0;32mNone\u001b[0m\u001b[0;34m,\u001b[0m \u001b[0mcompression\u001b[0m\u001b[0;34m,\u001b[0m \u001b[0;32mFalse\u001b[0m\u001b[0;34m\u001b[0m\u001b[0;34m\u001b[0m\u001b[0m\n",
      "\u001b[0;31mValueError\u001b[0m: Invalid file path or buffer object type: <class 'list'>"
     ]
    }
   ],
   "source": [
    "import pandas as pd\n",
    "pd.read_json(new_Walls)"
   ]
  },
  {
   "cell_type": "code",
   "execution_count": 15,
   "metadata": {},
   "outputs": [
    {
     "data": {
      "text/plain": [
       "{'id': 368080,\n",
       " 'owner_id': -193013221,\n",
       " 'date': 1613724008,\n",
       " 'marked_as_ads': 0,\n",
       " 'text': '📌 Коммуникационный центр Правительства Российской Федерации выпустил ежедневный отчет о текущей ситуации по борьбе с коронавирусом.\\n\\nСколько заразившихся в мире и России? Как проводится тестирование на коронавирус? Что делает Правительство для противодействия распространению инфекции? На все эти вопросы есть ответы в отчете.\\n\\n🔗 https://dalee.cdnvideo.ru/stopcoronavirus.rf/files/2021-02-19_coronavirus_government_report.pdf\\n\\nБольше новостей и оперативной информации о распространении коронавируса в России — на сайте стопкоронавирус.рф.\\n\\n#стопкоронавирус #здоровьевприоритете #coronavirus',\n",
       " 'comments': {'count': 1, 'can_post': 1, 'groups_can_post': True},\n",
       " 'likes': {'count': 15, 'user_likes': 0, 'can_like': 1, 'can_publish': 1},\n",
       " 'reposts': {'count': 5, 'user_reposted': 0},\n",
       " 'views': {'count': 29408}}"
      ]
     },
     "execution_count": 15,
     "metadata": {},
     "output_type": "execute_result"
    }
   ],
   "source": [
    "# list(map(lambda x: x * 2 + 3, numbers))\n",
    "allWalls[0]"
   ]
  },
  {
   "cell_type": "code",
   "execution_count": 53,
   "metadata": {},
   "outputs": [],
   "source": []
  },
  {
   "cell_type": "code",
   "execution_count": 52,
   "metadata": {},
   "outputs": [
    {
     "name": "stdout",
     "output_type": "stream",
     "text": [
      "donut\n",
      "post_type\n",
      "post_source\n",
      "from_id\n",
      "short_text_rate\n",
      "is_favorite\n",
      "carousel_offset\n",
      "attachments\n"
     ]
    },
    {
     "data": {
      "text/plain": [
       "{'id': 368044,\n",
       " 'owner_id': -193013221,\n",
       " 'date': 1613721700,\n",
       " 'marked_as_ads': 0,\n",
       " 'text': 'За последние сутки в России выявлено 13 433 случая COVID-19 в 85 регионах, из них 1 462 (10,9%) — активно у контактных лиц без клинических проявлений болезни.\\n\\nВ Российской Федерации нарастающим итогом зарегистрирован 4 139 031 случай (+0,33%) коронавирусной инфекции в 85 регионах, число выписанных пациентов выросло до 3 679 949.\\n\\nЗа прошедшие сутки в связи с выздоровлением выписано 18 637 человек. Больше всего выписано:\\n🔹 Санкт-Петербург – 3 676\\n🔹 Москва – 2 112\\n🔹 Московская область – 598\\n\\nЗа последние сутки подтверждено 470 летальных исходов с коронавирусом:\\n🔻 Москва – 53\\n🔻 Санкт-Петербург – 47\\n🔻 Московская область – 35\\n🔻 Ростовская область – 23\\n🔻 Краснодарский край – 16\\n🔻 Красноярский край – 14\\n🔻 Свердловская область – 13\\n🔻 Нижегородская область – 12\\n🔻 Воронежская область – 11\\n🔻 Ленинградская область – 11\\n🔻 Пермский край – 9\\n🔻 Алтайский край – 9\\n🔻 Владимирская область – 8\\n🔻 Смоленская область – 8\\n🔻 Тульская область – 8\\n🔻 Вологодская область – 8\\n🔻 Ульяновская область – 8\\n🔻 Иркутская область – 8\\n🔻 Курганская область – 7\\n🔻 Новосибирская область – 7\\n🔻 Ивановская область – 6\\n🔻 Курская область – 6\\n🔻 Тверская область – 6\\n🔻 Республика Крым – 6\\n🔻 Ставропольский край – 6\\n🔻 Республика Чувашия – 6\\n🔻 Мурманская область – 5\\n🔻 Волгоградская область – 5\\n🔻 Республика Дагестан – 5\\n🔻 Оренбургская область – 5\\n🔻 Челябинская область – 5\\n🔻 Омская область – 5\\n🔻 Томская область – 5\\n🔻 Ярославская область – 4\\n🔻 Республика Башкортостан – 4\\n🔻 Удмуртская Республика – 4\\n🔻 Саратовская область – 4\\n🔻 Ханты-Мансийский АО – 4\\n🔻 Республика Хакасия – 4\\n🔻 Белгородская область – 3\\n🔻 Костромская область – 3\\n🔻 Липецкая область – 3\\n🔻 Орловская область – 3\\n🔻 Рязанская область – 3\\n🔻 Тамбовская область – 3\\n🔻 Республика Карелия – 3\\n🔻 Республика Коми – 3\\n🔻 Астраханская область – 3\\n🔻 Севастополь – 3\\n🔻 Республика Татарстан – 3\\n🔻 Пензенская область – 3\\n🔻 Псковская область – 2\\n🔻 Республика Калмыкия – 2\\n🔻 Республика Марий Эл – 2\\n🔻 Республика Алтай – 2\\n🔻 Забайкальский край – 2\\n🔻 Приморский край – 2\\n🔻 Амурская область – 2\\n🔻 Калужская область – 1\\n🔻 Чеченская Республика – 1\\n🔻 Республика Мордовия – 1\\n🔻 Кировская область – 1\\n🔻 Тюменская область – 1\\n🔻 Кемеровская область – 1\\n🔻 Республика Бурятия – 1\\n🔻 Хабаровский край – 1\\n🔻 Сахалинская область – 1\\n🔻 Еврейская АО – 1\\n\\nЛетальных случаев за все время: 82 396.\\n\\nПо данным Роспотребнадзора, на сегодняшний день проведено свыше 108,3 млн лабораторных исследований на наличие нового коронавируса.\\n\\nЗа последние сутки проведено 374 тысячи тестов на коронавирус.\\n\\nПод медицинским наблюдением в целом по России по состоянию на 19.02.2021 остаются 604 357 человек.\\n\\nПолная информация тут — https://стопкоронавирус.рф/news/20210219-1100.html\\n\\nКарта заболеваемости коронавирусной инфекцией с подробностями по регионам и динамикой по дням — на сайте https://стопкоронавирус.рф/information/\\n\\n#стопкоронавирус #здоровьевприоритете #coronavirus',\n",
       " 'comments': {'count': 26, 'can_post': 1, 'groups_can_post': True},\n",
       " 'likes': {'count': 61, 'user_likes': 0, 'can_like': 1, 'can_publish': 1},\n",
       " 'reposts': {'count': 50, 'user_reposted': 0},\n",
       " 'views': {'count': 17339}}"
      ]
     },
     "execution_count": 52,
     "metadata": {},
     "output_type": "execute_result"
    }
   ],
   "source": [
    "deleteFromDict(allWalls[2], fieldsToKeep)"
   ]
  },
  {
   "cell_type": "code",
   "execution_count": 54,
   "metadata": {},
   "outputs": [],
   "source": [
    "new_Walls = list(map(lambda item: deleteFromDict(item, fieldsToKeep), allWalls))"
   ]
  },
  {
   "cell_type": "code",
   "execution_count": 57,
   "metadata": {},
   "outputs": [
    {
     "data": {
      "text/plain": [
       "{'id': 367876,\n",
       " 'owner_id': -193013221,\n",
       " 'date': 1613655029,\n",
       " 'marked_as_ads': 0,\n",
       " 'text': 'На Дальнем Востоке постепенно ослабляют ограничения, связанные с коронавирусом.\\n\\n🧓 В Хабаровском крае сняли режим самоизоляции для пожилых людей. Ограничения сохранили только для Аяно-Майского района, где наблюдается максимальное количество заражений.\\n\\n👩\\u200d🍳 К обычному режиму работы в регионе уже вернулись ночные клубы, кафе и рестораны. Ограничения в социальных учреждениях планируется снять в марте.\\n\\n💪🏻 Не отстает и Чукотский автономный округ. В регионе ослабили ограничения для привитых от коронавируса. Местные спортсмены теперь могут участвовать в соревнованиях в закрытых помещениях, а пожилые люди - посещать досуговые мероприятия.\\n\\n😷 Тем не менее, в обоих регионах сохраняется масочный режим в общественных местах и требования к соблюдению социальной дистанции.\\n\\n💉 Всего в Хабаровском крае с начала пандемии зарегистрировано 47,4 тыс. заболевших. В регионе активно идет вакцинация: на конец прошлой недели, привито уже 18,8 тыс. человек.\\n\\n💊 Во всех муниципалитетах Чукотки также продолжается вакцинация. Первый компонент препарата получили более 2 тыс. человек, из них 991 житель прошел полный цикл. Всего с начала пандемии в регионе отмечено 673 случая заболевания.\\n\\n⚡️ Больше новостей по актуальной теме вакцинации читайте на вакцина.стопкоронавирус.рф и будьте здоровы. Онлайн запись на вакцинацию доступна по ссылке: http://bit.ly/3ioAkuJ\\n\\n#стопкоронавирус #здоровьевприоритете #coronavirus #япривился',\n",
       " 'comments': {'count': 3, 'can_post': 1, 'groups_can_post': True},\n",
       " 'likes': {'count': 46, 'user_likes': 0, 'can_like': 1, 'can_publish': 1},\n",
       " 'reposts': {'count': 14, 'user_reposted': 0},\n",
       " 'views': {'count': 103637}}"
      ]
     },
     "execution_count": 57,
     "metadata": {},
     "output_type": "execute_result"
    }
   ],
   "source": [
    "new_Walls[4]"
   ]
  },
  {
   "cell_type": "code",
   "execution_count": 362,
   "metadata": {},
   "outputs": [
    {
     "name": "stdout",
     "output_type": "stream",
     "text": [
      "2021-03-23 18:29:57\n"
     ]
    }
   ],
   "source": [
    "from datetime import datetime\n",
    "ts = int(\"1616513397\")\n",
    "\n",
    "# if you encounter a \"year is out of range\" error the timestamp\n",
    "# may be in milliseconds, try `ts /= 1000` in that case\n",
    "print(datetime.fromtimestamp(ts).strftime('%Y-%m-%d %H:%M:%S'))"
   ]
  }
 ],
 "metadata": {
  "colab": {
   "name": "vk_parser.ipynb",
   "provenance": []
  },
  "kernelspec": {
   "display_name": "Python 3",
   "language": "python",
   "name": "python3"
  },
  "language_info": {
   "codemirror_mode": {
    "name": "ipython",
    "version": 3
   },
   "file_extension": ".py",
   "mimetype": "text/x-python",
   "name": "python",
   "nbconvert_exporter": "python",
   "pygments_lexer": "ipython3",
   "version": "3.8.5"
  }
 },
 "nbformat": 4,
 "nbformat_minor": 1
}
