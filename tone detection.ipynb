{
 "cells": [
  {
   "cell_type": "code",
   "execution_count": 4,
   "metadata": {},
   "outputs": [
    {
     "name": "stderr",
     "output_type": "stream",
     "text": [
      "[nltk_data] Downloading package stopwords to\n",
      "[nltk_data]     /home/mchelushkin/nltk_data...\n",
      "[nltk_data]   Package stopwords is already up-to-date!\n"
     ]
    }
   ],
   "source": [
    "import pandas as pd\n",
    "from nltk.corpus import stopwords\n",
    "import nltk\n",
    "import pymorphy2\n",
    "import re\n",
    "import string\n",
    "from tqdm import tqdm\n",
    "from collections import Counter\n",
    "import numpy as np\n",
    "from gensim.models.ldamulticore import LdaMulticore\n",
    "from gensim.models.coherencemodel import CoherenceModel\n",
    "from gensim import corpora\n",
    "from datetime import datetime\n",
    "\n",
    "tqdm.pandas()\n",
    "nltk.download('stopwords')\n",
    "\n",
    "import warnings\n",
    "warnings.filterwarnings('ignore')\n",
    "\n",
    "from multiprocessing import Pool\n",
    "morph = pymorphy2.MorphAnalyzer()\n",
    "\n",
    "import matplotlib.pyplot as plt"
   ]
  },
  {
   "cell_type": "markdown",
   "metadata": {},
   "source": [
    "# Подготовка данных"
   ]
  },
  {
   "cell_type": "code",
   "execution_count": 5,
   "metadata": {},
   "outputs": [],
   "source": [
    "commentsDF = pd.read_csv('data/commentsRAW.csv', usecols=['id', 'date', 'text'])\n",
    "answersDF = pd.read_csv('data/answersRAW.csv', usecols=['id', 'date', 'text'])\n",
    "commentsDF = commentsDF[commentsDF.text.notna()]\n",
    "answersDF = answersDF[answersDF.text.notna()]"
   ]
  },
  {
   "cell_type": "code",
   "execution_count": 6,
   "metadata": {},
   "outputs": [
    {
     "data": {
      "text/plain": [
       "(1433391, 3)"
      ]
     },
     "execution_count": 6,
     "metadata": {},
     "output_type": "execute_result"
    }
   ],
   "source": [
    "allCommentsDF = commentsDF.append(answersDF, ignore_index=True)\n",
    "allCommentsDF.shape"
   ]
  },
  {
   "cell_type": "code",
   "execution_count": 6,
   "metadata": {},
   "outputs": [
    {
     "name": "stderr",
     "output_type": "stream",
     "text": [
      "100%|██████████| 1433391/1433391 [00:55<00:00, 25985.99it/s]\n"
     ]
    }
   ],
   "source": [
    "# вк собака объединяет символы - ковычки и троеточия\n",
    "import emoji\n",
    "def deEmojify(text):\n",
    "    emoji_pattern = re.compile(\"[\"\n",
    "        u\"\\U0001F600-\\U0001F64F\"  # emoticons\n",
    "        u\"\\U0001F300-\\U0001F5FF\"  # symbols & pictographs\n",
    "        u\"\\U0001F680-\\U0001F6FF\"  # transport & map symbols\n",
    "        u\"\\U0001F1E0-\\U0001F1FF\"  # flags (iOS)\n",
    "                           \"]+\", flags=re.UNICODE)\n",
    "    return emoji_pattern.sub(r' ', text)\n",
    "\n",
    "def give_emoji_free_text(text):\n",
    "    return emoji.get_emoji_regexp().sub(r'', text)\n",
    "\n",
    "punctuation = string.punctuation + '…«»—–'\n",
    "def clean_text(text):\n",
    "# Make text lowercase\n",
    "    text = text.lower()\n",
    "# remove text in square brackets\n",
    "    text = re.sub(r'\\[.*?\\]', ' ', text)\n",
    "# remove urls\n",
    "    text = re.sub(r\"http\\S+\", ' ', text)\n",
    "# remove emojies\n",
    "#     text = give_emoji_free_text(text)\n",
    "# remove punctuation   \n",
    "    text = re.sub(r'[%s]' % re.escape(punctuation), ' ', text)\n",
    "# remove numbers\n",
    "    text = re.sub(r'[0-9]', ' ', text)\n",
    "# remove non letters\n",
    "    text = re.sub(r'[^\\w\\s]', '', text)\n",
    "# remove dublicate spaces\n",
    "    text = re.sub('\\s\\s+', ' ', text)\n",
    "    return text\n",
    "comments_df_clean = pd.DataFrame(allCommentsDF.text.progress_apply(lambda x: clean_text(x)))"
   ]
  },
  {
   "cell_type": "code",
   "execution_count": 7,
   "metadata": {},
   "outputs": [
    {
     "name": "stdout",
     "output_type": "stream",
     "text": [
      "CPU times: user 10.4 s, sys: 9.48 s, total: 19.8 s\n",
      "Wall time: 11min 49s\n"
     ]
    }
   ],
   "source": [
    "%%time\n",
    "\n",
    "stopwords_list = stopwords.words('russian') + stopwords.words('english')\n",
    "stopwords_list.append('это')\n",
    "stopwords_list.append('всё')\n",
    "stopwords_list.append('ещё')\n",
    "stopwords_list.append('весь')\n",
    "stopwords_list.append('человек')\n",
    "stopwords_list.append('свой')\n",
    "stopwords_list.append('который')\n",
    "stopwords_list.append('мочь')\n",
    "stopwords_list.append('')\n",
    "\n",
    "def lemmatize(text, lemmer = morph, stopwords = stopwords_list):\n",
    "    words = text.split(' ')\n",
    "    lemmas = [lemmer.parse(w)[0].normal_form for w in words]\n",
    "    return [w for w in lemmas if len(w) >= 3 and not w in stopwords]\n",
    "\n",
    "with Pool(processes = 4) as pool:\n",
    "    lemmatized = pool.starmap(lemmatize, zip(comments_df_clean.text))"
   ]
  },
  {
   "cell_type": "code",
   "execution_count": 8,
   "metadata": {},
   "outputs": [],
   "source": [
    "import json\n",
    "with open('LDA/lemmatized.json', 'w') as f:\n",
    "    f.write(json.dumps(lemmatized))"
   ]
  },
  {
   "cell_type": "code",
   "execution_count": 7,
   "metadata": {},
   "outputs": [],
   "source": [
    "import json\n",
    "with open('LDA/lemmatized.json', 'r') as f:\n",
    "    lemmatized = json.loads(f.read())"
   ]
  },
  {
   "cell_type": "code",
   "execution_count": 8,
   "metadata": {},
   "outputs": [],
   "source": [
    "comments_lemmatized_df = pd.DataFrame({'text' : lemmatized, 'date' : allCommentsDF.date})"
   ]
  },
  {
   "cell_type": "code",
   "execution_count": 9,
   "metadata": {},
   "outputs": [],
   "source": [
    "def wordsCount(texts):\n",
    "    count = Counter()\n",
    "    for words in texts:\n",
    "        for word in words:\n",
    "            count[word] += 1\n",
    "    return count\n",
    "\n",
    "def removeNotCommonWords(text, word_counter):\n",
    "    return [word for word in text if word_counter[word] > 10]\n",
    "\n",
    "def func(df):\n",
    "    word_counter = wordsCount(df.text.values.tolist())\n",
    "    \n",
    "    df.text = df.text.apply(lambda x: removeNotCommonWords(x, word_counter))\n",
    "    df.text = df.text.apply(lambda x: ' '.join(x))\n",
    "    df.text = df.text.apply(lambda x: x.split())\n",
    "    df = df[df.text.apply(lambda x: len(x) >= 20 and len(x) <= 300)]\n",
    "    return df"
   ]
  },
  {
   "cell_type": "code",
   "execution_count": 10,
   "metadata": {},
   "outputs": [],
   "source": [
    "clean_texts = func(comments_lemmatized_df)"
   ]
  },
  {
   "cell_type": "code",
   "execution_count": 11,
   "metadata": {},
   "outputs": [
    {
     "data": {
      "text/html": [
       "<div>\n",
       "<style scoped>\n",
       "    .dataframe tbody tr th:only-of-type {\n",
       "        vertical-align: middle;\n",
       "    }\n",
       "\n",
       "    .dataframe tbody tr th {\n",
       "        vertical-align: top;\n",
       "    }\n",
       "\n",
       "    .dataframe thead th {\n",
       "        text-align: right;\n",
       "    }\n",
       "</style>\n",
       "<table border=\"1\" class=\"dataframe\">\n",
       "  <thead>\n",
       "    <tr style=\"text-align: right;\">\n",
       "      <th></th>\n",
       "      <th>text</th>\n",
       "      <th>date</th>\n",
       "    </tr>\n",
       "  </thead>\n",
       "  <tbody>\n",
       "    <tr>\n",
       "      <th>4</th>\n",
       "      <td>[действительно, движение, жизнь, ребёнок, вооб...</td>\n",
       "      <td>1616477087</td>\n",
       "    </tr>\n",
       "    <tr>\n",
       "      <th>9</th>\n",
       "      <td>[очень, странный, рекомендация, ношение, маска...</td>\n",
       "      <td>1616511004</td>\n",
       "    </tr>\n",
       "    <tr>\n",
       "      <th>13</th>\n",
       "      <td>[переболеть, ковид, многие, слабоумный, вести,...</td>\n",
       "      <td>1616425952</td>\n",
       "    </tr>\n",
       "    <tr>\n",
       "      <th>24</th>\n",
       "      <td>[переболеть, ковид, многие, слабоумный, вести,...</td>\n",
       "      <td>1616426029</td>\n",
       "    </tr>\n",
       "    <tr>\n",
       "      <th>27</th>\n",
       "      <td>[эксперт, воз, установить, животное, стать, пр...</td>\n",
       "      <td>1616481257</td>\n",
       "    </tr>\n",
       "    <tr>\n",
       "      <th>...</th>\n",
       "      <td>...</td>\n",
       "      <td>...</td>\n",
       "    </tr>\n",
       "    <tr>\n",
       "      <th>1433316</th>\n",
       "      <td>[скулить, сказать, слово, значит, сразу, скули...</td>\n",
       "      <td>1579862018</td>\n",
       "    </tr>\n",
       "    <tr>\n",
       "      <th>1433332</th>\n",
       "      <td>[обычный, тактика, фарма, компания, создать, н...</td>\n",
       "      <td>1579785429</td>\n",
       "    </tr>\n",
       "    <tr>\n",
       "      <th>1433358</th>\n",
       "      <td>[белый, налёт, говорить, скорее, ангина, бакте...</td>\n",
       "      <td>1579700867</td>\n",
       "    </tr>\n",
       "    <tr>\n",
       "      <th>1433372</th>\n",
       "      <td>[атрибут, единорос, переходящий, красный, знам...</td>\n",
       "      <td>1579638367</td>\n",
       "    </tr>\n",
       "    <tr>\n",
       "      <th>1433373</th>\n",
       "      <td>[знамя, капиталист, убить, империя, фашистский...</td>\n",
       "      <td>1579663861</td>\n",
       "    </tr>\n",
       "  </tbody>\n",
       "</table>\n",
       "<p>144155 rows × 2 columns</p>\n",
       "</div>"
      ],
      "text/plain": [
       "                                                      text        date\n",
       "4        [действительно, движение, жизнь, ребёнок, вооб...  1616477087\n",
       "9        [очень, странный, рекомендация, ношение, маска...  1616511004\n",
       "13       [переболеть, ковид, многие, слабоумный, вести,...  1616425952\n",
       "24       [переболеть, ковид, многие, слабоумный, вести,...  1616426029\n",
       "27       [эксперт, воз, установить, животное, стать, пр...  1616481257\n",
       "...                                                    ...         ...\n",
       "1433316  [скулить, сказать, слово, значит, сразу, скули...  1579862018\n",
       "1433332  [обычный, тактика, фарма, компания, создать, н...  1579785429\n",
       "1433358  [белый, налёт, говорить, скорее, ангина, бакте...  1579700867\n",
       "1433372  [атрибут, единорос, переходящий, красный, знам...  1579638367\n",
       "1433373  [знамя, капиталист, убить, империя, фашистский...  1579663861\n",
       "\n",
       "[144155 rows x 2 columns]"
      ]
     },
     "execution_count": 11,
     "metadata": {},
     "output_type": "execute_result"
    }
   ],
   "source": [
    "clean_texts"
   ]
  },
  {
   "cell_type": "code",
   "execution_count": 12,
   "metadata": {},
   "outputs": [],
   "source": [
    "clean_texts['text_str'] = clean_texts.text.apply(lambda x: ' '.join(x))"
   ]
  },
  {
   "cell_type": "code",
   "execution_count": 15,
   "metadata": {},
   "outputs": [],
   "source": [
    "clean_texts.text_str.to_csv('tmp_texts.txt', header=False, index=False)"
   ]
  },
  {
   "cell_type": "markdown",
   "metadata": {},
   "source": [
    "# tone detection"
   ]
  },
  {
   "cell_type": "code",
   "execution_count": 11,
   "metadata": {
    "scrolled": true
   },
   "outputs": [
    {
     "name": "stderr",
     "output_type": "stream",
     "text": [
      "Warning : `load_model` does not return WordVectorModel or SupervisedModel any more, but a `FastText` object which is very similar.\n"
     ]
    }
   ],
   "source": [
    "from dostoevsky.tokenization import RegexTokenizer\n",
    "from dostoevsky.models import FastTextSocialNetworkModel\n",
    "\n",
    "tokenizer = RegexTokenizer()\n",
    "tokens = tokenizer.split('всё очень плохо')  # [('всё', None), ('очень', None), ('плохо', None)]\n",
    "\n",
    "model = FastTextSocialNetworkModel(tokenizer=tokenizer)"
   ]
  },
  {
   "cell_type": "code",
   "execution_count": 19,
   "metadata": {},
   "outputs": [],
   "source": [
    "messages = clean_texts.text_str.to_list()"
   ]
  },
  {
   "cell_type": "code",
   "execution_count": 21,
   "metadata": {},
   "outputs": [],
   "source": [
    "clean_texts['tones'] = model.predict(messages, k=2)"
   ]
  },
  {
   "cell_type": "code",
   "execution_count": 10,
   "metadata": {},
   "outputs": [],
   "source": [
    "import liwc\n",
    "parse, category_names = liwc.load_token_parser('/home/mchelushkin/Downloads/Telegram Desktop/Russian_LIWC2007_Dictionary.dic')"
   ]
  },
  {
   "cell_type": "code",
   "execution_count": 61,
   "metadata": {},
   "outputs": [
    {
     "name": "stderr",
     "output_type": "stream",
     "text": [
      "100%|██████████| 144155/144155 [00:30<00:00, 4796.38it/s]\n"
     ]
    }
   ],
   "source": [
    "clean_texts['sentiment_an'] = clean_texts.text.progress_apply(lambda x: fun_sentiment_analysis(x))"
   ]
  },
  {
   "cell_type": "code",
   "execution_count": 62,
   "metadata": {},
   "outputs": [
    {
     "data": {
      "text/html": [
       "<div>\n",
       "<style scoped>\n",
       "    .dataframe tbody tr th:only-of-type {\n",
       "        vertical-align: middle;\n",
       "    }\n",
       "\n",
       "    .dataframe tbody tr th {\n",
       "        vertical-align: top;\n",
       "    }\n",
       "\n",
       "    .dataframe thead th {\n",
       "        text-align: right;\n",
       "    }\n",
       "</style>\n",
       "<table border=\"1\" class=\"dataframe\">\n",
       "  <thead>\n",
       "    <tr style=\"text-align: right;\">\n",
       "      <th></th>\n",
       "      <th>text</th>\n",
       "      <th>date</th>\n",
       "      <th>sentiment_an</th>\n",
       "    </tr>\n",
       "  </thead>\n",
       "  <tbody>\n",
       "    <tr>\n",
       "      <th>4</th>\n",
       "      <td>[действительно, движение, жизнь, ребёнок, вооб...</td>\n",
       "      <td>1616477087</td>\n",
       "      <td>{'Действие': 0.06172839506172839, 'Позитив': 0...</td>\n",
       "    </tr>\n",
       "    <tr>\n",
       "      <th>9</th>\n",
       "      <td>[очень, странный, рекомендация, ношение, маска...</td>\n",
       "      <td>1616511004</td>\n",
       "      <td>{'Функция': 0.08333333333333333, 'Наречие': 0....</td>\n",
       "    </tr>\n",
       "    <tr>\n",
       "      <th>13</th>\n",
       "      <td>[переболеть, ковид, многие, слабоумный, вести,...</td>\n",
       "      <td>1616425952</td>\n",
       "      <td>{'Функция': 0.1, 'quant': 0.03333333333333333,...</td>\n",
       "    </tr>\n",
       "    <tr>\n",
       "      <th>24</th>\n",
       "      <td>[переболеть, ковид, многие, слабоумный, вести,...</td>\n",
       "      <td>1616426029</td>\n",
       "      <td>{'Функция': 0.1, 'quant': 0.03333333333333333,...</td>\n",
       "    </tr>\n",
       "    <tr>\n",
       "      <th>27</th>\n",
       "      <td>[эксперт, воз, установить, животное, стать, пр...</td>\n",
       "      <td>1616481257</td>\n",
       "      <td>{'Работа': 0.06451612903225806, 'Действие': 0....</td>\n",
       "    </tr>\n",
       "    <tr>\n",
       "      <th>...</th>\n",
       "      <td>...</td>\n",
       "      <td>...</td>\n",
       "      <td>...</td>\n",
       "    </tr>\n",
       "    <tr>\n",
       "      <th>1433316</th>\n",
       "      <td>[скулить, сказать, слово, значит, сразу, скули...</td>\n",
       "      <td>1579862018</td>\n",
       "      <td>{'Общество': 0.0625, 'Перцепция': 0.0208333333...</td>\n",
       "    </tr>\n",
       "    <tr>\n",
       "      <th>1433332</th>\n",
       "      <td>[обычный, тактика, фарма, компания, создать, н...</td>\n",
       "      <td>1579785429</td>\n",
       "      <td>{'Сравнение': 0.1694915254237288, 'Время': 0.1...</td>\n",
       "    </tr>\n",
       "    <tr>\n",
       "      <th>1433358</th>\n",
       "      <td>[белый, налёт, говорить, скорее, ангина, бакте...</td>\n",
       "      <td>1579700867</td>\n",
       "      <td>{'Перцепция': 0.061224489795918366, 'Видение':...</td>\n",
       "    </tr>\n",
       "    <tr>\n",
       "      <th>1433372</th>\n",
       "      <td>[атрибут, единорос, переходящий, красный, знам...</td>\n",
       "      <td>1579638367</td>\n",
       "      <td>{'Когнитив': 0.16, 'Мотивация': 0.04, 'Сравнен...</td>\n",
       "    </tr>\n",
       "    <tr>\n",
       "      <th>1433373</th>\n",
       "      <td>[знамя, капиталист, убить, империя, фашистский...</td>\n",
       "      <td>1579663861</td>\n",
       "      <td>{'Деньги': 0.25, 'Смерть': 0.1, 'Работа': 0.15...</td>\n",
       "    </tr>\n",
       "  </tbody>\n",
       "</table>\n",
       "<p>144155 rows × 3 columns</p>\n",
       "</div>"
      ],
      "text/plain": [
       "                                                      text        date  \\\n",
       "4        [действительно, движение, жизнь, ребёнок, вооб...  1616477087   \n",
       "9        [очень, странный, рекомендация, ношение, маска...  1616511004   \n",
       "13       [переболеть, ковид, многие, слабоумный, вести,...  1616425952   \n",
       "24       [переболеть, ковид, многие, слабоумный, вести,...  1616426029   \n",
       "27       [эксперт, воз, установить, животное, стать, пр...  1616481257   \n",
       "...                                                    ...         ...   \n",
       "1433316  [скулить, сказать, слово, значит, сразу, скули...  1579862018   \n",
       "1433332  [обычный, тактика, фарма, компания, создать, н...  1579785429   \n",
       "1433358  [белый, налёт, говорить, скорее, ангина, бакте...  1579700867   \n",
       "1433372  [атрибут, единорос, переходящий, красный, знам...  1579638367   \n",
       "1433373  [знамя, капиталист, убить, империя, фашистский...  1579663861   \n",
       "\n",
       "                                              sentiment_an  \n",
       "4        {'Действие': 0.06172839506172839, 'Позитив': 0...  \n",
       "9        {'Функция': 0.08333333333333333, 'Наречие': 0....  \n",
       "13       {'Функция': 0.1, 'quant': 0.03333333333333333,...  \n",
       "24       {'Функция': 0.1, 'quant': 0.03333333333333333,...  \n",
       "27       {'Работа': 0.06451612903225806, 'Действие': 0....  \n",
       "...                                                    ...  \n",
       "1433316  {'Общество': 0.0625, 'Перцепция': 0.0208333333...  \n",
       "1433332  {'Сравнение': 0.1694915254237288, 'Время': 0.1...  \n",
       "1433358  {'Перцепция': 0.061224489795918366, 'Видение':...  \n",
       "1433372  {'Когнитив': 0.16, 'Мотивация': 0.04, 'Сравнен...  \n",
       "1433373  {'Деньги': 0.25, 'Смерть': 0.1, 'Работа': 0.15...  \n",
       "\n",
       "[144155 rows x 3 columns]"
      ]
     },
     "execution_count": 62,
     "metadata": {},
     "output_type": "execute_result"
    }
   ],
   "source": [
    "clean_texts"
   ]
  },
  {
   "cell_type": "code",
   "execution_count": 57,
   "metadata": {},
   "outputs": [],
   "source": [
    "def fun_sentiment_analysis(text):\n",
    "    counter = dict(Counter(category for token in text for category in parse(token)))\n",
    "    total = sum(counter.values())\n",
    "    ans = []\n",
    "    for x in counter:\n",
    "        ans.append((x, counter[x] / total))\n",
    "    return dict(ans)"
   ]
  },
  {
   "cell_type": "markdown",
   "metadata": {},
   "source": [
    "## Подготовка данных для визуализации"
   ]
  },
  {
   "cell_type": "code",
   "execution_count": 6,
   "metadata": {},
   "outputs": [],
   "source": [
    "def wordsCount(texts):\n",
    "    count = Counter()\n",
    "    for words in texts:\n",
    "        for word in words:\n",
    "            count[word] += 1\n",
    "    return count\n",
    "\n",
    "def removeNotCommonWords(text, word_counter):\n",
    "    return [word for word in text if word_counter[word] > 10]\n",
    "\n",
    "def func1(df):\n",
    "    word_counter = wordsCount(df.text.values.tolist())\n",
    "    \n",
    "    df.text = df.text.apply(lambda x: removeNotCommonWords(x, word_counter))\n",
    "    df.text = df.text.apply(lambda x: ' '.join(x))\n",
    "    df.text = df.text.apply(lambda x: x.split())\n",
    "#     df = df[df.text.apply(lambda x: len(x) >= 3)]\n",
    "    df = df[df.text.apply(lambda x: len(x) >= 20 and len(x) <= 300)]\n",
    "    return df\n",
    "\n",
    "clean_texts_for_visualizarion = func1(comments_lemmatized_df)"
   ]
  },
  {
   "cell_type": "code",
   "execution_count": 25,
   "metadata": {},
   "outputs": [],
   "source": [
    "clean_texts_for_visualizarion = clean_texts.copy()"
   ]
  },
  {
   "cell_type": "code",
   "execution_count": 26,
   "metadata": {},
   "outputs": [],
   "source": [
    "other_corpus = [dictionary.doc2bow(text) for text in clean_texts_for_visualizarion.text]"
   ]
  },
  {
   "cell_type": "code",
   "execution_count": 27,
   "metadata": {},
   "outputs": [
    {
     "name": "stderr",
     "output_type": "stream",
     "text": [
      "100%|██████████| 144155/144155 [00:55<00:00, 2589.89it/s]\n"
     ]
    }
   ],
   "source": [
    "topic_weights = []\n",
    "topics = []\n",
    "for row_list in tqdm(lda[other_corpus]):\n",
    "    topic_weights.append([w for i, w in row_list])\n",
    "    topics.append([i for i, w in row_list])"
   ]
  },
  {
   "cell_type": "code",
   "execution_count": 28,
   "metadata": {},
   "outputs": [],
   "source": [
    "topic_labels = list(range(1, 26))\n",
    "\n",
    "clean_texts_for_visualizarion['topic_weights'] = topic_weights\n",
    "clean_texts_for_visualizarion['topics'] = topics\n",
    "clean_texts_for_visualizarion['best_topic'] = clean_texts_for_visualizarion.topic_weights.apply(lambda x: np.argmax(x))\n",
    "clean_texts_for_visualizarion['formated_date'] = clean_texts_for_visualizarion.date.apply(lambda x: datetime.utcfromtimestamp(x).strftime('%Y-%m-%d %H:%M:%S')[:10])\n",
    "best_topic_weights = []\n",
    "best_topic_label = []\n",
    "for row in clean_texts_for_visualizarion.iterrows():\n",
    "    best_topic_weights.append(row[1]['topic_weights'][row[1].best_topic])\n",
    "    best_topic_label.append(topic_labels[row[1]['topics'][row[1].best_topic]])\n",
    "\n",
    "clean_texts_for_visualizarion['best_topic_weights'] = best_topic_weights\n",
    "clean_texts_for_visualizarion['best_topic_label'] = best_topic_label"
   ]
  },
  {
   "cell_type": "code",
   "execution_count": 29,
   "metadata": {},
   "outputs": [],
   "source": [
    "clean_texts_for_visualizarion['text_str'] = clean_texts_for_visualizarion.text.apply(lambda x: ' '.join(x))\n",
    "clean_texts_for_visualizarion = clean_texts_for_visualizarion.drop_duplicates(subset=['text_str'])\n",
    "confident_data = clean_texts_for_visualizarion[clean_texts_for_visualizarion.best_topic_weights >= 0.6]"
   ]
  },
  {
   "cell_type": "code",
   "execution_count": 77,
   "metadata": {},
   "outputs": [
    {
     "data": {
      "text/html": [
       "<div>\n",
       "<style scoped>\n",
       "    .dataframe tbody tr th:only-of-type {\n",
       "        vertical-align: middle;\n",
       "    }\n",
       "\n",
       "    .dataframe tbody tr th {\n",
       "        vertical-align: top;\n",
       "    }\n",
       "\n",
       "    .dataframe thead th {\n",
       "        text-align: right;\n",
       "    }\n",
       "</style>\n",
       "<table border=\"1\" class=\"dataframe\">\n",
       "  <thead>\n",
       "    <tr style=\"text-align: right;\">\n",
       "      <th></th>\n",
       "      <th>text</th>\n",
       "      <th>date</th>\n",
       "      <th>text_str</th>\n",
       "      <th>tones</th>\n",
       "      <th>topic_weights</th>\n",
       "      <th>topics</th>\n",
       "      <th>best_topic</th>\n",
       "      <th>formated_date</th>\n",
       "      <th>best_topic_weights</th>\n",
       "      <th>best_topic_label</th>\n",
       "    </tr>\n",
       "  </thead>\n",
       "  <tbody>\n",
       "    <tr>\n",
       "      <th>4</th>\n",
       "      <td>[действительно, движение, жизнь, ребёнок, вооб...</td>\n",
       "      <td>1616477087</td>\n",
       "      <td>действительно движение жизнь ребёнок вообще от...</td>\n",
       "      <td>{'neutral': 0.4765896201133728, 'negative': 0....</td>\n",
       "      <td>[0.28972316, 0.12688696, 0.19843104, 0.2094424...</td>\n",
       "      <td>[3, 7, 9, 10, 15, 16, 21]</td>\n",
       "      <td>0</td>\n",
       "      <td>2021-03-23</td>\n",
       "      <td>0.289723</td>\n",
       "      <td>4</td>\n",
       "    </tr>\n",
       "    <tr>\n",
       "      <th>9</th>\n",
       "      <td>[очень, странный, рекомендация, ношение, маска...</td>\n",
       "      <td>1616511004</td>\n",
       "      <td>очень странный рекомендация ношение маска реко...</td>\n",
       "      <td>{'neutral': 0.5544804334640503, 'positive': 0....</td>\n",
       "      <td>[0.087134674, 0.5738357, 0.057179853, 0.2584905]</td>\n",
       "      <td>[1, 3, 4, 22]</td>\n",
       "      <td>1</td>\n",
       "      <td>2021-03-23</td>\n",
       "      <td>0.573836</td>\n",
       "      <td>4</td>\n",
       "    </tr>\n",
       "    <tr>\n",
       "      <th>13</th>\n",
       "      <td>[переболеть, ковид, многие, слабоумный, вести,...</td>\n",
       "      <td>1616425952</td>\n",
       "      <td>переболеть ковид многие слабоумный вести редко...</td>\n",
       "      <td>{'neutral': 0.5544804334640503, 'negative': 0....</td>\n",
       "      <td>[0.21666904, 0.0973471, 0.34014884, 0.31076983]</td>\n",
       "      <td>[0, 13, 22, 23]</td>\n",
       "      <td>2</td>\n",
       "      <td>2021-03-22</td>\n",
       "      <td>0.340149</td>\n",
       "      <td>23</td>\n",
       "    </tr>\n",
       "    <tr>\n",
       "      <th>27</th>\n",
       "      <td>[эксперт, воз, установить, животное, стать, пр...</td>\n",
       "      <td>1616481257</td>\n",
       "      <td>эксперт воз установить животное стать промежут...</td>\n",
       "      <td>{'neutral': 0.59267657995224, 'negative': 0.34...</td>\n",
       "      <td>[0.22344148, 0.20510943, 0.35604066, 0.18423465]</td>\n",
       "      <td>[4, 7, 8, 13]</td>\n",
       "      <td>2</td>\n",
       "      <td>2021-03-23</td>\n",
       "      <td>0.356041</td>\n",
       "      <td>9</td>\n",
       "    </tr>\n",
       "    <tr>\n",
       "      <th>30</th>\n",
       "      <td>[учёный, заявить, смертельный, угроза, попадан...</td>\n",
       "      <td>1616343505</td>\n",
       "      <td>учёный заявить смертельный угроза попадание ко...</td>\n",
       "      <td>{'neutral': 0.546748161315918, 'negative': 0.3...</td>\n",
       "      <td>[0.051789545, 0.25748527, 0.055870418, 0.15689...</td>\n",
       "      <td>[2, 4, 5, 8, 17, 18, 22]</td>\n",
       "      <td>1</td>\n",
       "      <td>2021-03-21</td>\n",
       "      <td>0.257485</td>\n",
       "      <td>5</td>\n",
       "    </tr>\n",
       "    <tr>\n",
       "      <th>...</th>\n",
       "      <td>...</td>\n",
       "      <td>...</td>\n",
       "      <td>...</td>\n",
       "      <td>...</td>\n",
       "      <td>...</td>\n",
       "      <td>...</td>\n",
       "      <td>...</td>\n",
       "      <td>...</td>\n",
       "      <td>...</td>\n",
       "      <td>...</td>\n",
       "    </tr>\n",
       "    <tr>\n",
       "      <th>1433316</th>\n",
       "      <td>[скулить, сказать, слово, значит, сразу, скули...</td>\n",
       "      <td>1579862018</td>\n",
       "      <td>скулить сказать слово значит сразу скулить наз...</td>\n",
       "      <td>{'neutral': 0.5000100135803223, 'negative': 0....</td>\n",
       "      <td>[0.2960938, 0.16482203, 0.024312858, 0.0451526...</td>\n",
       "      <td>[6, 7, 9, 18, 21, 23]</td>\n",
       "      <td>5</td>\n",
       "      <td>2020-01-24</td>\n",
       "      <td>0.296693</td>\n",
       "      <td>24</td>\n",
       "    </tr>\n",
       "    <tr>\n",
       "      <th>1433332</th>\n",
       "      <td>[обычный, тактика, фарма, компания, создать, н...</td>\n",
       "      <td>1579785429</td>\n",
       "      <td>обычный тактика фарма компания создать новый в...</td>\n",
       "      <td>{'neutral': 0.5312193632125854, 'negative': 0....</td>\n",
       "      <td>[0.06685541, 0.112264544, 0.050011493, 0.05655...</td>\n",
       "      <td>[4, 6, 8, 10, 17, 20]</td>\n",
       "      <td>4</td>\n",
       "      <td>2020-01-23</td>\n",
       "      <td>0.352559</td>\n",
       "      <td>18</td>\n",
       "    </tr>\n",
       "    <tr>\n",
       "      <th>1433358</th>\n",
       "      <td>[белый, налёт, говорить, скорее, ангина, бакте...</td>\n",
       "      <td>1579700867</td>\n",
       "      <td>белый налёт говорить скорее ангина бактериальн...</td>\n",
       "      <td>{'negative': 0.3629792034626007, 'neutral': 0....</td>\n",
       "      <td>[0.5435269, 0.0609086, 0.07339673, 0.03941582,...</td>\n",
       "      <td>[0, 4, 8, 15, 16, 23]</td>\n",
       "      <td>0</td>\n",
       "      <td>2020-01-22</td>\n",
       "      <td>0.543527</td>\n",
       "      <td>1</td>\n",
       "    </tr>\n",
       "    <tr>\n",
       "      <th>1433372</th>\n",
       "      <td>[атрибут, единорос, переходящий, красный, знам...</td>\n",
       "      <td>1579638367</td>\n",
       "      <td>атрибут единорос переходящий красный знамя пос...</td>\n",
       "      <td>{'neutral': 0.33459946513175964, 'negative': 0...</td>\n",
       "      <td>[0.23778933, 0.045923296, 0.28131568, 0.204614...</td>\n",
       "      <td>[7, 11, 14, 20, 22, 24]</td>\n",
       "      <td>2</td>\n",
       "      <td>2020-01-21</td>\n",
       "      <td>0.281316</td>\n",
       "      <td>15</td>\n",
       "    </tr>\n",
       "    <tr>\n",
       "      <th>1433373</th>\n",
       "      <td>[знамя, капиталист, убить, империя, фашистский...</td>\n",
       "      <td>1579663861</td>\n",
       "      <td>знамя капиталист убить империя фашистский диви...</td>\n",
       "      <td>{'negative': 0.6370407938957214, 'neutral': 0....</td>\n",
       "      <td>[0.06650446, 0.6560925, 0.099318035, 0.14299957]</td>\n",
       "      <td>[1, 7, 18, 20]</td>\n",
       "      <td>1</td>\n",
       "      <td>2020-01-22</td>\n",
       "      <td>0.656093</td>\n",
       "      <td>8</td>\n",
       "    </tr>\n",
       "  </tbody>\n",
       "</table>\n",
       "<p>140227 rows × 10 columns</p>\n",
       "</div>"
      ],
      "text/plain": [
       "                                                      text        date  \\\n",
       "4        [действительно, движение, жизнь, ребёнок, вооб...  1616477087   \n",
       "9        [очень, странный, рекомендация, ношение, маска...  1616511004   \n",
       "13       [переболеть, ковид, многие, слабоумный, вести,...  1616425952   \n",
       "27       [эксперт, воз, установить, животное, стать, пр...  1616481257   \n",
       "30       [учёный, заявить, смертельный, угроза, попадан...  1616343505   \n",
       "...                                                    ...         ...   \n",
       "1433316  [скулить, сказать, слово, значит, сразу, скули...  1579862018   \n",
       "1433332  [обычный, тактика, фарма, компания, создать, н...  1579785429   \n",
       "1433358  [белый, налёт, говорить, скорее, ангина, бакте...  1579700867   \n",
       "1433372  [атрибут, единорос, переходящий, красный, знам...  1579638367   \n",
       "1433373  [знамя, капиталист, убить, империя, фашистский...  1579663861   \n",
       "\n",
       "                                                  text_str  \\\n",
       "4        действительно движение жизнь ребёнок вообще от...   \n",
       "9        очень странный рекомендация ношение маска реко...   \n",
       "13       переболеть ковид многие слабоумный вести редко...   \n",
       "27       эксперт воз установить животное стать промежут...   \n",
       "30       учёный заявить смертельный угроза попадание ко...   \n",
       "...                                                    ...   \n",
       "1433316  скулить сказать слово значит сразу скулить наз...   \n",
       "1433332  обычный тактика фарма компания создать новый в...   \n",
       "1433358  белый налёт говорить скорее ангина бактериальн...   \n",
       "1433372  атрибут единорос переходящий красный знамя пос...   \n",
       "1433373  знамя капиталист убить империя фашистский диви...   \n",
       "\n",
       "                                                     tones  \\\n",
       "4        {'neutral': 0.4765896201133728, 'negative': 0....   \n",
       "9        {'neutral': 0.5544804334640503, 'positive': 0....   \n",
       "13       {'neutral': 0.5544804334640503, 'negative': 0....   \n",
       "27       {'neutral': 0.59267657995224, 'negative': 0.34...   \n",
       "30       {'neutral': 0.546748161315918, 'negative': 0.3...   \n",
       "...                                                    ...   \n",
       "1433316  {'neutral': 0.5000100135803223, 'negative': 0....   \n",
       "1433332  {'neutral': 0.5312193632125854, 'negative': 0....   \n",
       "1433358  {'negative': 0.3629792034626007, 'neutral': 0....   \n",
       "1433372  {'neutral': 0.33459946513175964, 'negative': 0...   \n",
       "1433373  {'negative': 0.6370407938957214, 'neutral': 0....   \n",
       "\n",
       "                                             topic_weights  \\\n",
       "4        [0.28972316, 0.12688696, 0.19843104, 0.2094424...   \n",
       "9         [0.087134674, 0.5738357, 0.057179853, 0.2584905]   \n",
       "13         [0.21666904, 0.0973471, 0.34014884, 0.31076983]   \n",
       "27        [0.22344148, 0.20510943, 0.35604066, 0.18423465]   \n",
       "30       [0.051789545, 0.25748527, 0.055870418, 0.15689...   \n",
       "...                                                    ...   \n",
       "1433316  [0.2960938, 0.16482203, 0.024312858, 0.0451526...   \n",
       "1433332  [0.06685541, 0.112264544, 0.050011493, 0.05655...   \n",
       "1433358  [0.5435269, 0.0609086, 0.07339673, 0.03941582,...   \n",
       "1433372  [0.23778933, 0.045923296, 0.28131568, 0.204614...   \n",
       "1433373   [0.06650446, 0.6560925, 0.099318035, 0.14299957]   \n",
       "\n",
       "                            topics  best_topic formated_date  \\\n",
       "4        [3, 7, 9, 10, 15, 16, 21]           0    2021-03-23   \n",
       "9                    [1, 3, 4, 22]           1    2021-03-23   \n",
       "13                 [0, 13, 22, 23]           2    2021-03-22   \n",
       "27                   [4, 7, 8, 13]           2    2021-03-23   \n",
       "30        [2, 4, 5, 8, 17, 18, 22]           1    2021-03-21   \n",
       "...                            ...         ...           ...   \n",
       "1433316      [6, 7, 9, 18, 21, 23]           5    2020-01-24   \n",
       "1433332      [4, 6, 8, 10, 17, 20]           4    2020-01-23   \n",
       "1433358      [0, 4, 8, 15, 16, 23]           0    2020-01-22   \n",
       "1433372    [7, 11, 14, 20, 22, 24]           2    2020-01-21   \n",
       "1433373             [1, 7, 18, 20]           1    2020-01-22   \n",
       "\n",
       "         best_topic_weights  best_topic_label  \n",
       "4                  0.289723                 4  \n",
       "9                  0.573836                 4  \n",
       "13                 0.340149                23  \n",
       "27                 0.356041                 9  \n",
       "30                 0.257485                 5  \n",
       "...                     ...               ...  \n",
       "1433316            0.296693                24  \n",
       "1433332            0.352559                18  \n",
       "1433358            0.543527                 1  \n",
       "1433372            0.281316                15  \n",
       "1433373            0.656093                 8  \n",
       "\n",
       "[140227 rows x 10 columns]"
      ]
     },
     "execution_count": 77,
     "metadata": {},
     "output_type": "execute_result"
    }
   ],
   "source": [
    "clean_texts_for_visualizarion"
   ]
  },
  {
   "cell_type": "code",
   "execution_count": 78,
   "metadata": {},
   "outputs": [],
   "source": [
    "clean_texts_for_visualizarion[['date', 'formated_date', 'best_topic_weights', 'best_topic_label', 'tones']].to_csv('data_for_visualization_with_tones_v1.csv', index_label='id')"
   ]
  },
  {
   "cell_type": "code",
   "execution_count": null,
   "metadata": {},
   "outputs": [],
   "source": []
  }
 ],
 "metadata": {
  "kernelspec": {
   "display_name": "Python 3",
   "language": "python",
   "name": "python3"
  },
  "language_info": {
   "codemirror_mode": {
    "name": "ipython",
    "version": 3
   },
   "file_extension": ".py",
   "mimetype": "text/x-python",
   "name": "python",
   "nbconvert_exporter": "python",
   "pygments_lexer": "ipython3",
   "version": "3.8.5"
  },
  "toc": {
   "base_numbering": 1,
   "nav_menu": {},
   "number_sections": true,
   "sideBar": true,
   "skip_h1_title": false,
   "title_cell": "Table of Contents",
   "title_sidebar": "Contents",
   "toc_cell": false,
   "toc_position": {},
   "toc_section_display": true,
   "toc_window_display": false
  }
 },
 "nbformat": 4,
 "nbformat_minor": 4
}
