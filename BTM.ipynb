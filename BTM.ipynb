{
 "cells": [
  {
   "cell_type": "code",
   "execution_count": 1,
   "metadata": {},
   "outputs": [
    {
     "name": "stderr",
     "output_type": "stream",
     "text": [
      "[nltk_data] Downloading package stopwords to\n",
      "[nltk_data]     /home/mchelushkin/nltk_data...\n",
      "[nltk_data]   Package stopwords is already up-to-date!\n"
     ]
    }
   ],
   "source": [
    "import pandas as pd\n",
    "from nltk.corpus import stopwords\n",
    "import nltk\n",
    "import pymorphy2\n",
    "import re\n",
    "import string\n",
    "from tqdm import tqdm\n",
    "from collections import Counter\n",
    "import numpy as np\n",
    "from gensim.models.ldamulticore import LdaMulticore\n",
    "from gensim.models.coherencemodel import CoherenceModel\n",
    "from gensim import corpora\n",
    "from datetime import datetime\n",
    "\n",
    "tqdm.pandas()\n",
    "nltk.download('stopwords')\n",
    "\n",
    "import warnings\n",
    "warnings.filterwarnings('ignore')\n",
    "\n",
    "from multiprocessing import Pool\n",
    "morph = pymorphy2.MorphAnalyzer()\n",
    "\n",
    "import matplotlib.pyplot as plt\n",
    "\n",
    "import warnings\n",
    "warnings.filterwarnings(\"ignore\", category=DeprecationWarning)"
   ]
  },
  {
   "cell_type": "markdown",
   "metadata": {},
   "source": [
    "# Подготовка данных"
   ]
  },
  {
   "cell_type": "code",
   "execution_count": 2,
   "metadata": {},
   "outputs": [],
   "source": [
    "commentsDF = pd.read_csv('data/commentsRAW.csv', usecols=['id', 'date', 'text'])\n",
    "answersDF = pd.read_csv('data/answersRAW.csv', usecols=['id', 'date', 'text'])\n",
    "commentsDF = commentsDF[commentsDF.text.notna()]\n",
    "answersDF = answersDF[answersDF.text.notna()]"
   ]
  },
  {
   "cell_type": "code",
   "execution_count": 3,
   "metadata": {},
   "outputs": [
    {
     "data": {
      "text/plain": [
       "(1433391, 3)"
      ]
     },
     "execution_count": 3,
     "metadata": {},
     "output_type": "execute_result"
    }
   ],
   "source": [
    "allCommentsDF = commentsDF.append(answersDF, ignore_index=True)\n",
    "allCommentsDF.shape"
   ]
  },
  {
   "cell_type": "code",
   "execution_count": null,
   "metadata": {},
   "outputs": [],
   "source": [
    "# sortedDF = allCommentsDF.sort_values(by=['date'])"
   ]
  },
  {
   "cell_type": "code",
   "execution_count": 4,
   "metadata": {
    "code_folding": [
     1
    ]
   },
   "outputs": [
    {
     "name": "stderr",
     "output_type": "stream",
     "text": [
      "100%|██████████| 1433391/1433391 [00:30<00:00, 46944.88it/s]\n"
     ]
    }
   ],
   "source": [
    "punctuation = string.punctuation + '…«»—–'\n",
    "def clean_text(text):\n",
    "# Make text lowercase\n",
    "    text = text.lower()\n",
    "# remove text in square brackets\n",
    "    text = re.sub(r'\\[.*?\\]', ' ', text)\n",
    "# remove urls\n",
    "    text = re.sub(r\"http\\S+\", ' ', text)\n",
    "# remove punctuation   \n",
    "    text = re.sub(r'[%s]' % re.escape(punctuation), ' ', text)\n",
    "# remove numbers\n",
    "    text = re.sub(r'[0-9]', ' ', text)\n",
    "# remove non letters\n",
    "    text = re.sub(r'[^\\w\\s]', '', text)\n",
    "# remove dublicate spaces\n",
    "    text = re.sub('\\s\\s+', ' ', text)\n",
    "    return text\n",
    "comments_df_clean = pd.DataFrame(allCommentsDF.text.progress_apply(lambda x: clean_text(x)))"
   ]
  },
  {
   "cell_type": "code",
   "execution_count": 5,
   "metadata": {
    "code_folding": []
   },
   "outputs": [
    {
     "name": "stdout",
     "output_type": "stream",
     "text": [
      "CPU times: user 9.73 s, sys: 1.34 s, total: 11.1 s\n",
      "Wall time: 5min 42s\n"
     ]
    }
   ],
   "source": [
    "%%time\n",
    "\n",
    "stopwords_list = stopwords.words('russian') + stopwords.words('english')\n",
    "stopwords_list.append('это')\n",
    "stopwords_list.append('всё')\n",
    "stopwords_list.append('ещё')\n",
    "stopwords_list.append('весь')\n",
    "stopwords_list.append('человек')\n",
    "stopwords_list.append('свой')\n",
    "stopwords_list.append('который')\n",
    "stopwords_list.append('мочь')\n",
    "stopwords_list.append('')\n",
    "stopwords_list.append('p')\n",
    "stopwords_list.append('c')\n",
    "stopwords_list.append('de')\n",
    "stopwords_list.append('b')\n",
    "\n",
    "def lemmatize(text, lemmer = morph, stopwords = stopwords_list):\n",
    "    words = text.split(' ')\n",
    "    lemmas = [lemmer.parse(w)[0].normal_form for w in words]\n",
    "    return [w for w in lemmas if len(w) >= 3 and not w in stopwords]\n",
    "\n",
    "with Pool(processes = 4) as pool:\n",
    "    tmp = pool.starmap(lemmatize, zip(comments_df_clean.text))"
   ]
  },
  {
   "cell_type": "code",
   "execution_count": 4,
   "metadata": {},
   "outputs": [],
   "source": [
    "import json\n",
    "with open('LDA/lemmatized.json', 'r') as f:\n",
    "    lemmatized = json.loads(f.read())"
   ]
  },
  {
   "cell_type": "code",
   "execution_count": 5,
   "metadata": {},
   "outputs": [],
   "source": [
    "comments_lemmatized_df = pd.DataFrame({'text' : lemmatized, 'date' : allCommentsDF.date})"
   ]
  },
  {
   "cell_type": "code",
   "execution_count": 6,
   "metadata": {},
   "outputs": [],
   "source": [
    "def wordsCount(texts):\n",
    "    count = Counter()\n",
    "    for words in texts:\n",
    "        for word in words:\n",
    "            count[word] += 1\n",
    "    return count\n",
    "\n",
    "def removeNotCommonWords(text, word_counter):\n",
    "    return [word for word in text if word_counter[word] > 10]\n",
    "\n",
    "def func(df):\n",
    "    word_counter = wordsCount(df.text.values.tolist())\n",
    "    \n",
    "    df.text = df.text.apply(lambda x: removeNotCommonWords(x, word_counter))\n",
    "    df.text = df.text.apply(lambda x: ' '.join(x))\n",
    "    df.text = df.text.apply(lambda x: x.split())\n",
    "    df = df[df.text.apply(lambda x: len(x) >= 40 and len(x) <= 300)]\n",
    "    return df"
   ]
  },
  {
   "cell_type": "code",
   "execution_count": 7,
   "metadata": {},
   "outputs": [],
   "source": [
    "clean_texts = func(comments_lemmatized_df)"
   ]
  },
  {
   "cell_type": "code",
   "execution_count": 28,
   "metadata": {},
   "outputs": [],
   "source": [
    "from gensim import corpora\n",
    "dictionary = corpora.Dictionary(clean_texts.text)\n",
    "\n",
    "dictionary.filter_extremes(no_below = 10, no_above = 0.9, keep_n=None)\n",
    "corpus = [dictionary.doc2bow(text) for text in clean_texts.text]"
   ]
  },
  {
   "cell_type": "code",
   "execution_count": 9,
   "metadata": {},
   "outputs": [
    {
     "data": {
      "text/plain": [
       "35096"
      ]
     },
     "execution_count": 9,
     "metadata": {},
     "output_type": "execute_result"
    }
   ],
   "source": [
    "texts = clean_texts.text.apply(lambda x: ' '.join(x)).to_list()"
   ]
  },
  {
   "cell_type": "markdown",
   "metadata": {},
   "source": [
    "# Обучение модели BTM"
   ]
  },
  {
   "cell_type": "code",
   "execution_count": 13,
   "metadata": {},
   "outputs": [],
   "source": [
    "import bitermplus as btm"
   ]
  },
  {
   "cell_type": "code",
   "execution_count": 14,
   "metadata": {},
   "outputs": [],
   "source": [
    "X, vocabulary, vocab_dict = btm.get_words_freqs(texts)\n",
    "tf = np.array(X.sum(axis=0)).ravel()\n",
    "docs_vec = btm.get_vectorized_docs(texts, vocabulary)\n",
    "docs_lens = list(map(len, docs_vec))"
   ]
  },
  {
   "cell_type": "code",
   "execution_count": 19,
   "metadata": {},
   "outputs": [],
   "source": [
    "biterms = btm.get_biterms(docs_vec)"
   ]
  },
  {
   "cell_type": "code",
   "execution_count": 20,
   "metadata": {},
   "outputs": [],
   "source": [
    "model = btm.BTM(\n",
    "    X, vocabulary, seed=42, T=25, W=vocabulary.size, M=20, alpha=2, beta=0.01)"
   ]
  },
  {
   "cell_type": "code",
   "execution_count": 21,
   "metadata": {},
   "outputs": [
    {
     "name": "stderr",
     "output_type": "stream",
     "text": [
      "100%|██████████| 50/50 [05:30<00:00,  6.60s/it]\n"
     ]
    }
   ],
   "source": [
    "model.fit(biterms, iterations=50)"
   ]
  },
  {
   "cell_type": "code",
   "execution_count": 22,
   "metadata": {},
   "outputs": [],
   "source": [
    "top_words = btm.get_top_topic_words(\n",
    "    model,\n",
    "    words_num=10)"
   ]
  },
  {
   "cell_type": "code",
   "execution_count": 23,
   "metadata": {},
   "outputs": [
    {
     "data": {
      "text/html": [
       "<div>\n",
       "<style scoped>\n",
       "    .dataframe tbody tr th:only-of-type {\n",
       "        vertical-align: middle;\n",
       "    }\n",
       "\n",
       "    .dataframe tbody tr th {\n",
       "        vertical-align: top;\n",
       "    }\n",
       "\n",
       "    .dataframe thead th {\n",
       "        text-align: right;\n",
       "    }\n",
       "</style>\n",
       "<table border=\"1\" class=\"dataframe\">\n",
       "  <thead>\n",
       "    <tr style=\"text-align: right;\">\n",
       "      <th></th>\n",
       "      <th>topic0</th>\n",
       "      <th>topic1</th>\n",
       "      <th>topic2</th>\n",
       "      <th>topic3</th>\n",
       "      <th>topic4</th>\n",
       "      <th>topic5</th>\n",
       "      <th>topic6</th>\n",
       "      <th>topic7</th>\n",
       "      <th>topic8</th>\n",
       "      <th>topic9</th>\n",
       "      <th>...</th>\n",
       "      <th>topic15</th>\n",
       "      <th>topic16</th>\n",
       "      <th>topic17</th>\n",
       "      <th>topic18</th>\n",
       "      <th>topic19</th>\n",
       "      <th>topic20</th>\n",
       "      <th>topic21</th>\n",
       "      <th>topic22</th>\n",
       "      <th>topic23</th>\n",
       "      <th>topic24</th>\n",
       "    </tr>\n",
       "  </thead>\n",
       "  <tbody>\n",
       "    <tr>\n",
       "      <th>0</th>\n",
       "      <td>бог</td>\n",
       "      <td>просто</td>\n",
       "      <td>covid</td>\n",
       "      <td>дом</td>\n",
       "      <td>вакцина</td>\n",
       "      <td>год</td>\n",
       "      <td>маска</td>\n",
       "      <td>ребёнок</td>\n",
       "      <td>число</td>\n",
       "      <td>ваш</td>\n",
       "      <td>...</td>\n",
       "      <td>тест</td>\n",
       "      <td>российский</td>\n",
       "      <td>страна</td>\n",
       "      <td>коронавирус</td>\n",
       "      <td>вирус</td>\n",
       "      <td>режим</td>\n",
       "      <td>сделать</td>\n",
       "      <td>деньга</td>\n",
       "      <td>заболевание</td>\n",
       "      <td>россия</td>\n",
       "    </tr>\n",
       "    <tr>\n",
       "      <th>1</th>\n",
       "      <td>сказать</td>\n",
       "      <td>деньга</td>\n",
       "      <td>вирус</td>\n",
       "      <td>сидеть</td>\n",
       "      <td>год</td>\n",
       "      <td>смерть</td>\n",
       "      <td>вирус</td>\n",
       "      <td>врач</td>\n",
       "      <td>коронавирус</td>\n",
       "      <td>говорить</td>\n",
       "      <td>...</td>\n",
       "      <td>врач</td>\n",
       "      <td>закон</td>\n",
       "      <td>год</td>\n",
       "      <td>ответить</td>\n",
       "      <td>иммунитет</td>\n",
       "      <td>коронавирус</td>\n",
       "      <td>главное</td>\n",
       "      <td>работать</td>\n",
       "      <td>коронавирус</td>\n",
       "      <td>народ</td>\n",
       "    </tr>\n",
       "    <tr>\n",
       "      <th>2</th>\n",
       "      <td>год</td>\n",
       "      <td>год</td>\n",
       "      <td>источник</td>\n",
       "      <td>маска</td>\n",
       "      <td>вакцинация</td>\n",
       "      <td>болезнь</td>\n",
       "      <td>рука</td>\n",
       "      <td>школа</td>\n",
       "      <td>заболеть</td>\n",
       "      <td>просто</td>\n",
       "      <td>...</td>\n",
       "      <td>день</td>\n",
       "      <td>чрезвычайный</td>\n",
       "      <td>россия</td>\n",
       "      <td>комментарий</td>\n",
       "      <td>грипп</td>\n",
       "      <td>москва</td>\n",
       "      <td>просто</td>\n",
       "      <td>платить</td>\n",
       "      <td>covid</td>\n",
       "      <td>режим</td>\n",
       "    </tr>\n",
       "    <tr>\n",
       "      <th>3</th>\n",
       "      <td>земля</td>\n",
       "      <td>хороший</td>\n",
       "      <td>животное</td>\n",
       "      <td>ребёнок</td>\n",
       "      <td>препарат</td>\n",
       "      <td>ребёнок</td>\n",
       "      <td>носить</td>\n",
       "      <td>год</td>\n",
       "      <td>случай</td>\n",
       "      <td>жизнь</td>\n",
       "      <td>...</td>\n",
       "      <td>больница</td>\n",
       "      <td>право</td>\n",
       "      <td>сша</td>\n",
       "      <td>список</td>\n",
       "      <td>организм</td>\n",
       "      <td>карантин</td>\n",
       "      <td>каждый</td>\n",
       "      <td>работа</td>\n",
       "      <td>вирус</td>\n",
       "      <td>наш</td>\n",
       "    </tr>\n",
       "    <tr>\n",
       "      <th>4</th>\n",
       "      <td>мир</td>\n",
       "      <td>делать</td>\n",
       "      <td>коронавирус</td>\n",
       "      <td>работа</td>\n",
       "      <td>исследование</td>\n",
       "      <td>жизнь</td>\n",
       "      <td>перчатка</td>\n",
       "      <td>работать</td>\n",
       "      <td>страна</td>\n",
       "      <td>знать</td>\n",
       "      <td>...</td>\n",
       "      <td>сказать</td>\n",
       "      <td>ситуация</td>\n",
       "      <td>мир</td>\n",
       "      <td>информация</td>\n",
       "      <td>коронавирус</td>\n",
       "      <td>день</td>\n",
       "      <td>сидеть</td>\n",
       "      <td>год</td>\n",
       "      <td>респираторный</td>\n",
       "      <td>власть</td>\n",
       "    </tr>\n",
       "    <tr>\n",
       "      <th>5</th>\n",
       "      <td>аллах</td>\n",
       "      <td>большой</td>\n",
       "      <td>воз</td>\n",
       "      <td>ходить</td>\n",
       "      <td>прививка</td>\n",
       "      <td>заболевание</td>\n",
       "      <td>защита</td>\n",
       "      <td>хороший</td>\n",
       "      <td>умерший</td>\n",
       "      <td>твой</td>\n",
       "      <td>...</td>\n",
       "      <td>делать</td>\n",
       "      <td>гражданин</td>\n",
       "      <td>китай</td>\n",
       "      <td>вирус</td>\n",
       "      <td>болезнь</td>\n",
       "      <td>гражданин</td>\n",
       "      <td>страна</td>\n",
       "      <td>государство</td>\n",
       "      <td>инфекция</td>\n",
       "      <td>путин</td>\n",
       "    </tr>\n",
       "    <tr>\n",
       "      <th>6</th>\n",
       "      <td>день</td>\n",
       "      <td>жить</td>\n",
       "      <td>sars</td>\n",
       "      <td>магазин</td>\n",
       "      <td>коронавирус</td>\n",
       "      <td>здоровье</td>\n",
       "      <td>лицо</td>\n",
       "      <td>работа</td>\n",
       "      <td>год</td>\n",
       "      <td>хороший</td>\n",
       "      <td>...</td>\n",
       "      <td>дом</td>\n",
       "      <td>федерация</td>\n",
       "      <td>жить</td>\n",
       "      <td>новость</td>\n",
       "      <td>вакцина</td>\n",
       "      <td>мера</td>\n",
       "      <td>факт</td>\n",
       "      <td>налог</td>\n",
       "      <td>вызывать</td>\n",
       "      <td>против</td>\n",
       "    </tr>\n",
       "    <tr>\n",
       "      <th>7</th>\n",
       "      <td>говорить</td>\n",
       "      <td>очень</td>\n",
       "      <td>иметь</td>\n",
       "      <td>карантин</td>\n",
       "      <td>первый</td>\n",
       "      <td>умереть</td>\n",
       "      <td>воздух</td>\n",
       "      <td>наш</td>\n",
       "      <td>россия</td>\n",
       "      <td>слово</td>\n",
       "      <td>...</td>\n",
       "      <td>сделать</td>\n",
       "      <td>режим</td>\n",
       "      <td>путин</td>\n",
       "      <td>писать</td>\n",
       "      <td>иметь</td>\n",
       "      <td>город</td>\n",
       "      <td>бог</td>\n",
       "      <td>зарплата</td>\n",
       "      <td>последний</td>\n",
       "      <td>страна</td>\n",
       "    </tr>\n",
       "    <tr>\n",
       "      <th>8</th>\n",
       "      <td>время</td>\n",
       "      <td>работать</td>\n",
       "      <td>cov</td>\n",
       "      <td>работать</td>\n",
       "      <td>страна</td>\n",
       "      <td>умирать</td>\n",
       "      <td>больной</td>\n",
       "      <td>учитель</td>\n",
       "      <td>смертность</td>\n",
       "      <td>сказать</td>\n",
       "      <td>...</td>\n",
       "      <td>поликлиника</td>\n",
       "      <td>статья</td>\n",
       "      <td>наш</td>\n",
       "      <td>деятельность</td>\n",
       "      <td>очень</td>\n",
       "      <td>случай</td>\n",
       "      <td>масло</td>\n",
       "      <td>месяц</td>\n",
       "      <td>синдром</td>\n",
       "      <td>война</td>\n",
       "    </tr>\n",
       "    <tr>\n",
       "      <th>9</th>\n",
       "      <td>наш</td>\n",
       "      <td>наш</td>\n",
       "      <td>исследование</td>\n",
       "      <td>жить</td>\n",
       "      <td>спутник</td>\n",
       "      <td>случай</td>\n",
       "      <td>магазин</td>\n",
       "      <td>медицинский</td>\n",
       "      <td>пневмония</td>\n",
       "      <td>хотеть</td>\n",
       "      <td>...</td>\n",
       "      <td>анализ</td>\n",
       "      <td>являться</td>\n",
       "      <td>европа</td>\n",
       "      <td>смысл</td>\n",
       "      <td>просто</td>\n",
       "      <td>также</td>\n",
       "      <td>уничтожить</td>\n",
       "      <td>рубль</td>\n",
       "      <td>открытый</td>\n",
       "      <td>год</td>\n",
       "    </tr>\n",
       "  </tbody>\n",
       "</table>\n",
       "<p>10 rows × 25 columns</p>\n",
       "</div>"
      ],
      "text/plain": [
       "     topic0    topic1        topic2    topic3        topic4       topic5  \\\n",
       "0       бог    просто         covid       дом       вакцина          год   \n",
       "1   сказать    деньга         вирус    сидеть           год       смерть   \n",
       "2       год       год      источник     маска    вакцинация      болезнь   \n",
       "3     земля   хороший      животное   ребёнок      препарат      ребёнок   \n",
       "4       мир    делать   коронавирус    работа  исследование        жизнь   \n",
       "5     аллах   большой           воз    ходить      прививка  заболевание   \n",
       "6      день      жить          sars   магазин   коронавирус     здоровье   \n",
       "7  говорить     очень         иметь  карантин        первый      умереть   \n",
       "8     время  работать           cov  работать        страна      умирать   \n",
       "9       наш       наш  исследование      жить       спутник       случай   \n",
       "\n",
       "     topic6       topic7       topic8    topic9  ...      topic15  \\\n",
       "0     маска      ребёнок        число       ваш  ...         тест   \n",
       "1     вирус         врач  коронавирус  говорить  ...         врач   \n",
       "2      рука        школа     заболеть    просто  ...         день   \n",
       "3    носить          год       случай     жизнь  ...     больница   \n",
       "4  перчатка     работать       страна     знать  ...      сказать   \n",
       "5    защита      хороший      умерший      твой  ...       делать   \n",
       "6      лицо       работа          год   хороший  ...          дом   \n",
       "7    воздух          наш       россия     слово  ...      сделать   \n",
       "8   больной      учитель   смертность   сказать  ...  поликлиника   \n",
       "9   магазин  медицинский    пневмония    хотеть  ...       анализ   \n",
       "\n",
       "        topic16 topic17       topic18      topic19      topic20     topic21  \\\n",
       "0    российский  страна   коронавирус        вирус        режим     сделать   \n",
       "1         закон     год      ответить    иммунитет  коронавирус     главное   \n",
       "2  чрезвычайный  россия   комментарий        грипп       москва      просто   \n",
       "3         право     сша        список     организм     карантин      каждый   \n",
       "4      ситуация     мир    информация  коронавирус         день      сидеть   \n",
       "5     гражданин   китай         вирус      болезнь    гражданин      страна   \n",
       "6     федерация    жить       новость      вакцина         мера        факт   \n",
       "7         режим   путин        писать        иметь        город         бог   \n",
       "8        статья     наш  деятельность        очень       случай       масло   \n",
       "9      являться  европа         смысл       просто        также  уничтожить   \n",
       "\n",
       "       topic22        topic23 topic24  \n",
       "0       деньга    заболевание  россия  \n",
       "1     работать    коронавирус   народ  \n",
       "2      платить          covid   режим  \n",
       "3       работа          вирус     наш  \n",
       "4          год  респираторный  власть  \n",
       "5  государство       инфекция   путин  \n",
       "6        налог       вызывать  против  \n",
       "7     зарплата      последний  страна  \n",
       "8        месяц        синдром   война  \n",
       "9        рубль       открытый     год  \n",
       "\n",
       "[10 rows x 25 columns]"
      ]
     },
     "execution_count": 23,
     "metadata": {},
     "output_type": "execute_result"
    }
   ],
   "source": [
    "top_words"
   ]
  },
  {
   "cell_type": "code",
   "execution_count": 30,
   "metadata": {},
   "outputs": [
    {
     "data": {
      "text/plain": [
       "0.5621970450155179"
      ]
     },
     "execution_count": 30,
     "metadata": {},
     "output_type": "execute_result"
    }
   ],
   "source": [
    "topics = []\n",
    "for topic in top_words.columns:\n",
    "    topics.append(top_words[topic].to_list())\n",
    "\n",
    "cm = CoherenceModel(topics=topics, texts=clean_texts.text, corpus=corpus, dictionary=dictionary, coherence='c_v')\n",
    "cm.get_coherence()"
   ]
  },
  {
   "cell_type": "code",
   "execution_count": 16,
   "metadata": {},
   "outputs": [],
   "source": [
    "import pickle as pkl\n",
    "# Saving\n",
    "with open(\"model.pkl\", \"wb\") as file:\n",
    "    pkl.dump(model, file)\n",
    "\n",
    "# # Loading\n",
    "with open(\"model.pkl\", \"rb\") as file:\n",
    "    model = pkl.load(file)\n"
   ]
  }
 ],
 "metadata": {
  "kernelspec": {
   "display_name": "Python 3",
   "language": "python",
   "name": "python3"
  },
  "language_info": {
   "codemirror_mode": {
    "name": "ipython",
    "version": 3
   },
   "file_extension": ".py",
   "mimetype": "text/x-python",
   "name": "python",
   "nbconvert_exporter": "python",
   "pygments_lexer": "ipython3",
   "version": "3.8.5"
  },
  "toc": {
   "base_numbering": 1,
   "nav_menu": {},
   "number_sections": true,
   "sideBar": true,
   "skip_h1_title": false,
   "title_cell": "Table of Contents",
   "title_sidebar": "Contents",
   "toc_cell": false,
   "toc_position": {},
   "toc_section_display": true,
   "toc_window_display": false
  }
 },
 "nbformat": 4,
 "nbformat_minor": 4
}
